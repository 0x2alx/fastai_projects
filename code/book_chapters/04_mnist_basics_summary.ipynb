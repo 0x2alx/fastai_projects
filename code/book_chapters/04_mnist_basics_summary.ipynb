{
 "cells": [
  {
   "cell_type": "code",
   "execution_count": null,
   "metadata": {},
   "outputs": [],
   "source": [
    "!pip install -Uqq fastbook\n",
    "import fastbook\n",
    "fastbook.setup_book()\n",
    "\n",
    "from fastai.vision.all import *\n",
    "from fastbook import *\n",
    "\n",
    "matplotlib.rc('image', cmap='Greys')"
   ]
  },
  {
   "cell_type": "markdown",
   "metadata": {},
   "source": [
    "<h2>Training hand written digit classifier on MNIST dataset</h2>"
   ]
  },
  {
   "cell_type": "markdown",
   "metadata": {},
   "source": [
    "We start with simple binary classification (only 2 possible predicitions) of 3 and 7s. More precisely it is a classifier that identifies if an image is a 3 or NOT a 3, and since the only NOT 3 images we use for training it are 7s, if it's not 3, it's 7."
   ]
  },
  {
   "cell_type": "code",
   "execution_count": null,
   "metadata": {},
   "outputs": [],
   "source": [
    "path = untar_data(URLs.MNIST_SAMPLE)"
   ]
  },
  {
   "cell_type": "markdown",
   "metadata": {},
   "source": [
    "FASTAI_HOME which is by default ~/.fastai contains a config.ini file and some folders where it downloads data sets and models. So when we use untar_data we download the specified data set (URLs.MNIST_SAMPLE) into:"
   ]
  },
  {
   "cell_type": "code",
   "execution_count": null,
   "metadata": {},
   "outputs": [
    {
     "data": {
      "text/plain": [
       "(pathlib.PosixPath, Path('/home/alex/.fastai/data/mnist_sample'))"
      ]
     },
     "execution_count": null,
     "metadata": {},
     "output_type": "execute_result"
    }
   ],
   "source": [
    "type(path),path"
   ]
  },
  {
   "cell_type": "markdown",
   "metadata": {},
   "source": [
    "The line bellow sets a base Path, so that all Path objects are refered from that BASE_PATH, to avoid specifying it repeatedly."
   ]
  },
  {
   "cell_type": "code",
   "execution_count": null,
   "metadata": {},
   "outputs": [],
   "source": [
    "Path.BASE_PATH = path"
   ]
  },
  {
   "cell_type": "markdown",
   "metadata": {},
   "source": [
    "The downloaded data set contains the following folders:"
   ]
  },
  {
   "cell_type": "code",
   "execution_count": null,
   "metadata": {},
   "outputs": [
    {
     "data": {
      "text/plain": [
       "(#2) [Path('train/7'),Path('train/3')]"
      ]
     },
     "execution_count": null,
     "metadata": {},
     "output_type": "execute_result"
    }
   ],
   "source": [
    "path.ls()"
   ]
  },
  {
   "cell_type": "code",
   "execution_count": null,
   "metadata": {},
   "outputs": [
    {
     "data": {
      "text/plain": [
       "(#2) [Path('train/7'),Path('train/3')]"
      ]
     },
     "execution_count": null,
     "metadata": {},
     "output_type": "execute_result"
    }
   ],
   "source": [
    "(path/'train').ls()"
   ]
  },
  {
   "cell_type": "code",
   "execution_count": null,
   "metadata": {},
   "outputs": [
    {
     "data": {
      "text/plain": [
       "6131"
      ]
     },
     "execution_count": null,
     "metadata": {},
     "output_type": "execute_result"
    }
   ],
   "source": [
    "len((path/'train/3').ls())"
   ]
  },
  {
   "cell_type": "code",
   "execution_count": null,
   "metadata": {},
   "outputs": [
    {
     "data": {
      "text/plain": [
       "6265"
      ]
     },
     "execution_count": null,
     "metadata": {},
     "output_type": "execute_result"
    }
   ],
   "source": [
    "len((path/'train/7').ls())"
   ]
  },
  {
   "cell_type": "markdown",
   "metadata": {},
   "source": [
    "Load list of all 3s and 7s training images:"
   ]
  },
  {
   "cell_type": "code",
   "execution_count": null,
   "metadata": {},
   "outputs": [
    {
     "data": {
      "text/plain": [
       "((#6131) [Path('train/3/10.png'),Path('train/3/10000.png'),Path('train/3/10011.png'),Path('train/3/10031.png'),Path('train/3/10034.png'),Path('train/3/10042.png'),Path('train/3/10052.png'),Path('train/3/1007.png'),Path('train/3/10074.png'),Path('train/3/10091.png')...],\n",
       " (#6265) [Path('train/7/10002.png'),Path('train/7/1001.png'),Path('train/7/10014.png'),Path('train/7/10019.png'),Path('train/7/10039.png'),Path('train/7/10046.png'),Path('train/7/10050.png'),Path('train/7/10063.png'),Path('train/7/10077.png'),Path('train/7/10086.png')...])"
      ]
     },
     "execution_count": null,
     "metadata": {},
     "output_type": "execute_result"
    }
   ],
   "source": [
    "threes = (path/'train'/'3').ls().sorted()\n",
    "sevens = (path/'train'/'7').ls().sorted()\n",
    "threes,sevens"
   ]
  },
  {
   "cell_type": "markdown",
   "metadata": {},
   "source": [
    "Here is the size of each image:"
   ]
  },
  {
   "cell_type": "code",
   "execution_count": null,
   "metadata": {},
   "outputs": [
    {
     "data": {
      "text/plain": [
       "(28, 28)"
      ]
     },
     "execution_count": null,
     "metadata": {},
     "output_type": "execute_result"
    }
   ],
   "source": [
    "Image.open(threes[0]).width,Image.open(threes[0]).height"
   ]
  },
  {
   "cell_type": "markdown",
   "metadata": {},
   "source": [
    "Below, we can view the first 3 image as a 28,28 tensor:"
   ]
  },
  {
   "cell_type": "code",
   "execution_count": null,
   "metadata": {},
   "outputs": [
    {
     "data": {
      "text/html": [
       "<style type=\"text/css\">\n",
       "#T_cf815_row0_col0, #T_cf815_row0_col1, #T_cf815_row0_col2, #T_cf815_row0_col3, #T_cf815_row0_col4, #T_cf815_row0_col5, #T_cf815_row0_col6, #T_cf815_row0_col7, #T_cf815_row0_col8, #T_cf815_row0_col9, #T_cf815_row0_col10, #T_cf815_row0_col11, #T_cf815_row0_col12, #T_cf815_row0_col13, #T_cf815_row0_col14, #T_cf815_row0_col15, #T_cf815_row0_col16, #T_cf815_row0_col17, #T_cf815_row0_col18, #T_cf815_row0_col19, #T_cf815_row0_col20, #T_cf815_row0_col21, #T_cf815_row0_col22, #T_cf815_row0_col23, #T_cf815_row0_col24, #T_cf815_row0_col25, #T_cf815_row0_col26, #T_cf815_row0_col27, #T_cf815_row1_col0, #T_cf815_row1_col1, #T_cf815_row1_col2, #T_cf815_row1_col3, #T_cf815_row1_col4, #T_cf815_row1_col5, #T_cf815_row1_col6, #T_cf815_row1_col7, #T_cf815_row1_col8, #T_cf815_row1_col9, #T_cf815_row1_col10, #T_cf815_row1_col11, #T_cf815_row1_col12, #T_cf815_row1_col13, #T_cf815_row1_col14, #T_cf815_row1_col15, #T_cf815_row1_col16, #T_cf815_row1_col17, #T_cf815_row1_col18, #T_cf815_row1_col19, #T_cf815_row1_col20, #T_cf815_row1_col21, #T_cf815_row1_col22, #T_cf815_row1_col23, #T_cf815_row1_col24, #T_cf815_row1_col25, #T_cf815_row1_col26, #T_cf815_row1_col27, #T_cf815_row2_col0, #T_cf815_row2_col1, #T_cf815_row2_col2, #T_cf815_row2_col3, #T_cf815_row2_col4, #T_cf815_row2_col5, #T_cf815_row2_col6, #T_cf815_row2_col7, #T_cf815_row2_col8, #T_cf815_row2_col9, #T_cf815_row2_col10, #T_cf815_row2_col11, #T_cf815_row2_col12, #T_cf815_row2_col13, #T_cf815_row2_col14, #T_cf815_row2_col15, #T_cf815_row2_col16, #T_cf815_row2_col17, #T_cf815_row2_col18, #T_cf815_row2_col19, #T_cf815_row2_col20, #T_cf815_row2_col21, #T_cf815_row2_col22, #T_cf815_row2_col23, #T_cf815_row2_col24, #T_cf815_row2_col25, #T_cf815_row2_col26, #T_cf815_row2_col27, #T_cf815_row3_col0, #T_cf815_row3_col1, #T_cf815_row3_col2, #T_cf815_row3_col3, #T_cf815_row3_col4, #T_cf815_row3_col5, #T_cf815_row3_col6, #T_cf815_row3_col7, #T_cf815_row3_col8, #T_cf815_row3_col9, #T_cf815_row3_col10, #T_cf815_row3_col11, #T_cf815_row3_col12, #T_cf815_row3_col13, #T_cf815_row3_col14, #T_cf815_row3_col15, #T_cf815_row3_col16, #T_cf815_row3_col17, #T_cf815_row3_col18, #T_cf815_row3_col19, #T_cf815_row3_col20, #T_cf815_row3_col21, #T_cf815_row3_col22, #T_cf815_row3_col23, #T_cf815_row3_col24, #T_cf815_row3_col25, #T_cf815_row3_col26, #T_cf815_row3_col27, #T_cf815_row4_col0, #T_cf815_row4_col1, #T_cf815_row4_col2, #T_cf815_row4_col3, #T_cf815_row4_col4, #T_cf815_row4_col5, #T_cf815_row4_col6, #T_cf815_row4_col7, #T_cf815_row4_col8, #T_cf815_row4_col9, #T_cf815_row4_col10, #T_cf815_row4_col18, #T_cf815_row4_col19, #T_cf815_row4_col20, #T_cf815_row4_col21, #T_cf815_row4_col22, #T_cf815_row4_col23, #T_cf815_row4_col24, #T_cf815_row4_col25, #T_cf815_row4_col26, #T_cf815_row4_col27, #T_cf815_row5_col0, #T_cf815_row5_col1, #T_cf815_row5_col2, #T_cf815_row5_col3, #T_cf815_row5_col4, #T_cf815_row5_col5, #T_cf815_row5_col6, #T_cf815_row5_col7, #T_cf815_row5_col8, #T_cf815_row5_col9, #T_cf815_row5_col18, #T_cf815_row5_col19, #T_cf815_row5_col20, #T_cf815_row5_col21, #T_cf815_row5_col22, #T_cf815_row5_col23, #T_cf815_row5_col24, #T_cf815_row5_col25, #T_cf815_row5_col26, #T_cf815_row5_col27, #T_cf815_row6_col0, #T_cf815_row6_col1, #T_cf815_row6_col2, #T_cf815_row6_col3, #T_cf815_row6_col4, #T_cf815_row6_col5, #T_cf815_row6_col6, #T_cf815_row6_col7, #T_cf815_row6_col8, #T_cf815_row6_col9, #T_cf815_row6_col19, #T_cf815_row6_col20, #T_cf815_row6_col21, #T_cf815_row6_col22, #T_cf815_row6_col23, #T_cf815_row6_col24, #T_cf815_row6_col25, #T_cf815_row6_col26, #T_cf815_row6_col27, #T_cf815_row7_col0, #T_cf815_row7_col1, #T_cf815_row7_col2, #T_cf815_row7_col3, #T_cf815_row7_col4, #T_cf815_row7_col5, #T_cf815_row7_col6, #T_cf815_row7_col7, #T_cf815_row7_col8, #T_cf815_row7_col9, #T_cf815_row7_col10, #T_cf815_row7_col19, #T_cf815_row7_col20, #T_cf815_row7_col21, #T_cf815_row7_col22, #T_cf815_row7_col23, #T_cf815_row7_col24, #T_cf815_row7_col25, #T_cf815_row7_col26, #T_cf815_row7_col27, #T_cf815_row8_col0, #T_cf815_row8_col1, #T_cf815_row8_col2, #T_cf815_row8_col3, #T_cf815_row8_col4, #T_cf815_row8_col5, #T_cf815_row8_col6, #T_cf815_row8_col7, #T_cf815_row8_col8, #T_cf815_row8_col9, #T_cf815_row8_col10, #T_cf815_row8_col11, #T_cf815_row8_col19, #T_cf815_row8_col20, #T_cf815_row8_col21, #T_cf815_row8_col22, #T_cf815_row8_col23, #T_cf815_row8_col24, #T_cf815_row8_col25, #T_cf815_row8_col26, #T_cf815_row8_col27, #T_cf815_row9_col0, #T_cf815_row9_col1, #T_cf815_row9_col2, #T_cf815_row9_col3, #T_cf815_row9_col4, #T_cf815_row9_col5, #T_cf815_row9_col6, #T_cf815_row9_col7, #T_cf815_row9_col8, #T_cf815_row9_col9, #T_cf815_row9_col10, #T_cf815_row9_col11, #T_cf815_row9_col19, #T_cf815_row9_col20, #T_cf815_row9_col21, #T_cf815_row9_col22, #T_cf815_row9_col23, #T_cf815_row9_col24, #T_cf815_row9_col25, #T_cf815_row9_col26, #T_cf815_row9_col27, #T_cf815_row10_col0, #T_cf815_row10_col1, #T_cf815_row10_col2, #T_cf815_row10_col3, #T_cf815_row10_col4, #T_cf815_row10_col5, #T_cf815_row10_col6, #T_cf815_row10_col7, #T_cf815_row10_col8, #T_cf815_row10_col9, #T_cf815_row10_col10, #T_cf815_row10_col11, #T_cf815_row10_col12, #T_cf815_row10_col19, #T_cf815_row10_col20, #T_cf815_row10_col21, #T_cf815_row10_col22, #T_cf815_row10_col23, #T_cf815_row10_col24, #T_cf815_row10_col25, #T_cf815_row10_col26, #T_cf815_row10_col27, #T_cf815_row11_col0, #T_cf815_row11_col1, #T_cf815_row11_col2, #T_cf815_row11_col3, #T_cf815_row11_col4, #T_cf815_row11_col5, #T_cf815_row11_col6, #T_cf815_row11_col7, #T_cf815_row11_col8, #T_cf815_row11_col9, #T_cf815_row11_col10, #T_cf815_row11_col11, #T_cf815_row11_col19, #T_cf815_row11_col20, #T_cf815_row11_col21, #T_cf815_row11_col22, #T_cf815_row11_col23, #T_cf815_row11_col24, #T_cf815_row11_col25, #T_cf815_row11_col26, #T_cf815_row11_col27, #T_cf815_row12_col0, #T_cf815_row12_col1, #T_cf815_row12_col2, #T_cf815_row12_col3, #T_cf815_row12_col4, #T_cf815_row12_col5, #T_cf815_row12_col6, #T_cf815_row12_col7, #T_cf815_row12_col8, #T_cf815_row12_col9, #T_cf815_row12_col19, #T_cf815_row12_col20, #T_cf815_row12_col21, #T_cf815_row12_col22, #T_cf815_row12_col23, #T_cf815_row12_col24, #T_cf815_row12_col25, #T_cf815_row12_col26, #T_cf815_row12_col27, #T_cf815_row13_col0, #T_cf815_row13_col1, #T_cf815_row13_col2, #T_cf815_row13_col3, #T_cf815_row13_col4, #T_cf815_row13_col5, #T_cf815_row13_col6, #T_cf815_row13_col7, #T_cf815_row13_col8, #T_cf815_row13_col9, #T_cf815_row13_col19, #T_cf815_row13_col20, #T_cf815_row13_col21, #T_cf815_row13_col22, #T_cf815_row13_col23, #T_cf815_row13_col24, #T_cf815_row13_col25, #T_cf815_row13_col26, #T_cf815_row13_col27, #T_cf815_row14_col0, #T_cf815_row14_col1, #T_cf815_row14_col2, #T_cf815_row14_col3, #T_cf815_row14_col4, #T_cf815_row14_col5, #T_cf815_row14_col6, #T_cf815_row14_col7, #T_cf815_row14_col8, #T_cf815_row14_col9, #T_cf815_row14_col10, #T_cf815_row14_col19, #T_cf815_row14_col20, #T_cf815_row14_col21, #T_cf815_row14_col22, #T_cf815_row14_col23, #T_cf815_row14_col24, #T_cf815_row14_col25, #T_cf815_row14_col26, #T_cf815_row14_col27, #T_cf815_row15_col0, #T_cf815_row15_col1, #T_cf815_row15_col2, #T_cf815_row15_col3, #T_cf815_row15_col4, #T_cf815_row15_col5, #T_cf815_row15_col6, #T_cf815_row15_col7, #T_cf815_row15_col8, #T_cf815_row15_col9, #T_cf815_row15_col10, #T_cf815_row15_col11, #T_cf815_row15_col19, #T_cf815_row15_col20, #T_cf815_row15_col21, #T_cf815_row15_col22, #T_cf815_row15_col23, #T_cf815_row15_col24, #T_cf815_row15_col25, #T_cf815_row15_col26, #T_cf815_row15_col27, #T_cf815_row16_col0, #T_cf815_row16_col1, #T_cf815_row16_col2, #T_cf815_row16_col3, #T_cf815_row16_col4, #T_cf815_row16_col5, #T_cf815_row16_col6, #T_cf815_row16_col7, #T_cf815_row16_col8, #T_cf815_row16_col9, #T_cf815_row16_col10, #T_cf815_row16_col11, #T_cf815_row16_col12, #T_cf815_row16_col13, #T_cf815_row16_col14, #T_cf815_row16_col15, #T_cf815_row16_col20, #T_cf815_row16_col21, #T_cf815_row16_col22, #T_cf815_row16_col23, #T_cf815_row16_col24, #T_cf815_row16_col25, #T_cf815_row16_col26, #T_cf815_row16_col27, #T_cf815_row17_col0, #T_cf815_row17_col1, #T_cf815_row17_col2, #T_cf815_row17_col3, #T_cf815_row17_col4, #T_cf815_row17_col5, #T_cf815_row17_col6, #T_cf815_row17_col7, #T_cf815_row17_col8, #T_cf815_row17_col9, #T_cf815_row17_col10, #T_cf815_row17_col11, #T_cf815_row17_col12, #T_cf815_row17_col13, #T_cf815_row17_col14, #T_cf815_row17_col20, #T_cf815_row17_col21, #T_cf815_row17_col22, #T_cf815_row17_col23, #T_cf815_row17_col24, #T_cf815_row17_col25, #T_cf815_row17_col26, #T_cf815_row17_col27, #T_cf815_row18_col0, #T_cf815_row18_col1, #T_cf815_row18_col2, #T_cf815_row18_col3, #T_cf815_row18_col4, #T_cf815_row18_col5, #T_cf815_row18_col6, #T_cf815_row18_col7, #T_cf815_row18_col8, #T_cf815_row18_col9, #T_cf815_row18_col10, #T_cf815_row18_col11, #T_cf815_row18_col12, #T_cf815_row18_col13, #T_cf815_row18_col14, #T_cf815_row18_col19, #T_cf815_row18_col20, #T_cf815_row18_col21, #T_cf815_row18_col22, #T_cf815_row18_col23, #T_cf815_row18_col24, #T_cf815_row18_col25, #T_cf815_row18_col26, #T_cf815_row18_col27, #T_cf815_row19_col0, #T_cf815_row19_col1, #T_cf815_row19_col2, #T_cf815_row19_col3, #T_cf815_row19_col4, #T_cf815_row19_col5, #T_cf815_row19_col9, #T_cf815_row19_col10, #T_cf815_row19_col11, #T_cf815_row19_col12, #T_cf815_row19_col13, #T_cf815_row19_col19, #T_cf815_row19_col20, #T_cf815_row19_col21, #T_cf815_row19_col22, #T_cf815_row19_col23, #T_cf815_row19_col24, #T_cf815_row19_col25, #T_cf815_row19_col26, #T_cf815_row19_col27, #T_cf815_row20_col0, #T_cf815_row20_col1, #T_cf815_row20_col2, #T_cf815_row20_col3, #T_cf815_row20_col4, #T_cf815_row20_col5, #T_cf815_row20_col11, #T_cf815_row20_col19, #T_cf815_row20_col20, #T_cf815_row20_col21, #T_cf815_row20_col22, #T_cf815_row20_col23, #T_cf815_row20_col24, #T_cf815_row20_col25, #T_cf815_row20_col26, #T_cf815_row20_col27, #T_cf815_row21_col0, #T_cf815_row21_col1, #T_cf815_row21_col2, #T_cf815_row21_col3, #T_cf815_row21_col4, #T_cf815_row21_col5, #T_cf815_row21_col18, #T_cf815_row21_col19, #T_cf815_row21_col20, #T_cf815_row21_col21, #T_cf815_row21_col22, #T_cf815_row21_col23, #T_cf815_row21_col24, #T_cf815_row21_col25, #T_cf815_row21_col26, #T_cf815_row21_col27, #T_cf815_row22_col0, #T_cf815_row22_col1, #T_cf815_row22_col2, #T_cf815_row22_col3, #T_cf815_row22_col4, #T_cf815_row22_col5, #T_cf815_row22_col6, #T_cf815_row22_col16, #T_cf815_row22_col17, #T_cf815_row22_col18, #T_cf815_row22_col19, #T_cf815_row22_col20, #T_cf815_row22_col21, #T_cf815_row22_col22, #T_cf815_row22_col23, #T_cf815_row22_col24, #T_cf815_row22_col25, #T_cf815_row22_col26, #T_cf815_row22_col27, #T_cf815_row23_col0, #T_cf815_row23_col1, #T_cf815_row23_col2, #T_cf815_row23_col3, #T_cf815_row23_col4, #T_cf815_row23_col5, #T_cf815_row23_col6, #T_cf815_row23_col7, #T_cf815_row23_col16, #T_cf815_row23_col17, #T_cf815_row23_col18, #T_cf815_row23_col19, #T_cf815_row23_col20, #T_cf815_row23_col21, #T_cf815_row23_col22, #T_cf815_row23_col23, #T_cf815_row23_col24, #T_cf815_row23_col25, #T_cf815_row23_col26, #T_cf815_row23_col27, #T_cf815_row24_col0, #T_cf815_row24_col1, #T_cf815_row24_col2, #T_cf815_row24_col3, #T_cf815_row24_col4, #T_cf815_row24_col5, #T_cf815_row24_col6, #T_cf815_row24_col7, #T_cf815_row24_col8, #T_cf815_row24_col9, #T_cf815_row24_col10, #T_cf815_row24_col11, #T_cf815_row24_col12, #T_cf815_row24_col13, #T_cf815_row24_col14, #T_cf815_row24_col15, #T_cf815_row24_col16, #T_cf815_row24_col17, #T_cf815_row24_col18, #T_cf815_row24_col19, #T_cf815_row24_col20, #T_cf815_row24_col21, #T_cf815_row24_col22, #T_cf815_row24_col23, #T_cf815_row24_col24, #T_cf815_row24_col25, #T_cf815_row24_col26, #T_cf815_row24_col27, #T_cf815_row25_col0, #T_cf815_row25_col1, #T_cf815_row25_col2, #T_cf815_row25_col3, #T_cf815_row25_col4, #T_cf815_row25_col5, #T_cf815_row25_col6, #T_cf815_row25_col7, #T_cf815_row25_col8, #T_cf815_row25_col9, #T_cf815_row25_col10, #T_cf815_row25_col11, #T_cf815_row25_col12, #T_cf815_row25_col13, #T_cf815_row25_col14, #T_cf815_row25_col15, #T_cf815_row25_col16, #T_cf815_row25_col17, #T_cf815_row25_col18, #T_cf815_row25_col19, #T_cf815_row25_col20, #T_cf815_row25_col21, #T_cf815_row25_col22, #T_cf815_row25_col23, #T_cf815_row25_col24, #T_cf815_row25_col25, #T_cf815_row25_col26, #T_cf815_row25_col27, #T_cf815_row26_col0, #T_cf815_row26_col1, #T_cf815_row26_col2, #T_cf815_row26_col3, #T_cf815_row26_col4, #T_cf815_row26_col5, #T_cf815_row26_col6, #T_cf815_row26_col7, #T_cf815_row26_col8, #T_cf815_row26_col9, #T_cf815_row26_col10, #T_cf815_row26_col11, #T_cf815_row26_col12, #T_cf815_row26_col13, #T_cf815_row26_col14, #T_cf815_row26_col15, #T_cf815_row26_col16, #T_cf815_row26_col17, #T_cf815_row26_col18, #T_cf815_row26_col19, #T_cf815_row26_col20, #T_cf815_row26_col21, #T_cf815_row26_col22, #T_cf815_row26_col23, #T_cf815_row26_col24, #T_cf815_row26_col25, #T_cf815_row26_col26, #T_cf815_row26_col27, #T_cf815_row27_col0, #T_cf815_row27_col1, #T_cf815_row27_col2, #T_cf815_row27_col3, #T_cf815_row27_col4, #T_cf815_row27_col5, #T_cf815_row27_col6, #T_cf815_row27_col7, #T_cf815_row27_col8, #T_cf815_row27_col9, #T_cf815_row27_col10, #T_cf815_row27_col11, #T_cf815_row27_col12, #T_cf815_row27_col13, #T_cf815_row27_col14, #T_cf815_row27_col15, #T_cf815_row27_col16, #T_cf815_row27_col17, #T_cf815_row27_col18, #T_cf815_row27_col19, #T_cf815_row27_col20, #T_cf815_row27_col21, #T_cf815_row27_col22, #T_cf815_row27_col23, #T_cf815_row27_col24, #T_cf815_row27_col25, #T_cf815_row27_col26, #T_cf815_row27_col27 {\n",
       "  font-size: 6pt;\n",
       "  background-color: #ffffff;\n",
       "  color: #000000;\n",
       "}\n",
       "#T_cf815_row4_col11 {\n",
       "  font-size: 6pt;\n",
       "  background-color: #e9e9e9;\n",
       "  color: #000000;\n",
       "}\n",
       "#T_cf815_row4_col12, #T_cf815_row4_col15, #T_cf815_row4_col16 {\n",
       "  font-size: 6pt;\n",
       "  background-color: #a2a2a2;\n",
       "  color: #f1f1f1;\n",
       "}\n",
       "#T_cf815_row4_col13 {\n",
       "  font-size: 6pt;\n",
       "  background-color: #292929;\n",
       "  color: #f1f1f1;\n",
       "}\n",
       "#T_cf815_row4_col14 {\n",
       "  font-size: 6pt;\n",
       "  background-color: #6b6b6b;\n",
       "  color: #f1f1f1;\n",
       "}\n",
       "#T_cf815_row4_col17, #T_cf815_row17_col15, #T_cf815_row23_col8 {\n",
       "  font-size: 6pt;\n",
       "  background-color: #fcfcfc;\n",
       "  color: #000000;\n",
       "}\n",
       "#T_cf815_row5_col10 {\n",
       "  font-size: 6pt;\n",
       "  background-color: #b4b4b4;\n",
       "  color: #000000;\n",
       "}\n",
       "#T_cf815_row5_col11 {\n",
       "  font-size: 6pt;\n",
       "  background-color: #0e0e0e;\n",
       "  color: #f1f1f1;\n",
       "}\n",
       "#T_cf815_row5_col12, #T_cf815_row5_col13, #T_cf815_row5_col14, #T_cf815_row5_col15, #T_cf815_row5_col16, #T_cf815_row6_col12, #T_cf815_row6_col13, #T_cf815_row6_col14, #T_cf815_row6_col15, #T_cf815_row6_col16, #T_cf815_row7_col13, #T_cf815_row7_col15, #T_cf815_row7_col16, #T_cf815_row7_col17, #T_cf815_row8_col13, #T_cf815_row8_col15, #T_cf815_row8_col16, #T_cf815_row8_col17, #T_cf815_row9_col14, #T_cf815_row9_col15, #T_cf815_row9_col16, #T_cf815_row9_col17, #T_cf815_row10_col15, #T_cf815_row10_col16, #T_cf815_row10_col17, #T_cf815_row11_col15, #T_cf815_row11_col16, #T_cf815_row11_col17, #T_cf815_row12_col13, #T_cf815_row12_col14, #T_cf815_row12_col15, #T_cf815_row12_col16, #T_cf815_row12_col17, #T_cf815_row13_col12, #T_cf815_row13_col13, #T_cf815_row13_col14, #T_cf815_row13_col15, #T_cf815_row13_col16, #T_cf815_row13_col17, #T_cf815_row14_col13, #T_cf815_row14_col14, #T_cf815_row14_col15, #T_cf815_row14_col16, #T_cf815_row14_col17, #T_cf815_row15_col17, #T_cf815_row16_col17, #T_cf815_row16_col18, #T_cf815_row16_col19, #T_cf815_row17_col16, #T_cf815_row17_col17, #T_cf815_row18_col16, #T_cf815_row18_col17, #T_cf815_row19_col16, #T_cf815_row19_col17, #T_cf815_row20_col6, #T_cf815_row20_col7, #T_cf815_row20_col15, #T_cf815_row20_col16, #T_cf815_row21_col8, #T_cf815_row21_col9, #T_cf815_row21_col13, #T_cf815_row21_col14, #T_cf815_row22_col9, #T_cf815_row22_col10, #T_cf815_row22_col11, #T_cf815_row22_col12, #T_cf815_row22_col13, #T_cf815_row22_col14, #T_cf815_row23_col12, #T_cf815_row23_col13 {\n",
       "  font-size: 6pt;\n",
       "  background-color: #000000;\n",
       "  color: #f1f1f1;\n",
       "}\n",
       "#T_cf815_row5_col17 {\n",
       "  font-size: 6pt;\n",
       "  background-color: #d7d7d7;\n",
       "  color: #000000;\n",
       "}\n",
       "#T_cf815_row6_col10 {\n",
       "  font-size: 6pt;\n",
       "  background-color: #f7f7f7;\n",
       "  color: #000000;\n",
       "}\n",
       "#T_cf815_row6_col11 {\n",
       "  font-size: 6pt;\n",
       "  background-color: #1a1a1a;\n",
       "  color: #f1f1f1;\n",
       "}\n",
       "#T_cf815_row6_col17 {\n",
       "  font-size: 6pt;\n",
       "  background-color: #131313;\n",
       "  color: #f1f1f1;\n",
       "}\n",
       "#T_cf815_row6_col18, #T_cf815_row13_col10 {\n",
       "  font-size: 6pt;\n",
       "  background-color: #cacaca;\n",
       "  color: #000000;\n",
       "}\n",
       "#T_cf815_row7_col11 {\n",
       "  font-size: 6pt;\n",
       "  background-color: #b3b3b3;\n",
       "  color: #000000;\n",
       "}\n",
       "#T_cf815_row7_col12 {\n",
       "  font-size: 6pt;\n",
       "  background-color: #0c0c0c;\n",
       "  color: #f1f1f1;\n",
       "}\n",
       "#T_cf815_row7_col14 {\n",
       "  font-size: 6pt;\n",
       "  background-color: #232323;\n",
       "  color: #f1f1f1;\n",
       "}\n",
       "#T_cf815_row7_col18 {\n",
       "  font-size: 6pt;\n",
       "  background-color: #6e6e6e;\n",
       "  color: #f1f1f1;\n",
       "}\n",
       "#T_cf815_row8_col12 {\n",
       "  font-size: 6pt;\n",
       "  background-color: #3a3a3a;\n",
       "  color: #f1f1f1;\n",
       "}\n",
       "#T_cf815_row8_col14 {\n",
       "  font-size: 6pt;\n",
       "  background-color: #363636;\n",
       "  color: #f1f1f1;\n",
       "}\n",
       "#T_cf815_row8_col18, #T_cf815_row12_col18, #T_cf815_row19_col18 {\n",
       "  font-size: 6pt;\n",
       "  background-color: #ebebeb;\n",
       "  color: #000000;\n",
       "}\n",
       "#T_cf815_row9_col12 {\n",
       "  font-size: 6pt;\n",
       "  background-color: #c7c7c7;\n",
       "  color: #000000;\n",
       "}\n",
       "#T_cf815_row9_col13, #T_cf815_row20_col14 {\n",
       "  font-size: 6pt;\n",
       "  background-color: #3c3c3c;\n",
       "  color: #f1f1f1;\n",
       "}\n",
       "#T_cf815_row9_col18 {\n",
       "  font-size: 6pt;\n",
       "  background-color: #e5e5e5;\n",
       "  color: #000000;\n",
       "}\n",
       "#T_cf815_row10_col13 {\n",
       "  font-size: 6pt;\n",
       "  background-color: #f4f4f4;\n",
       "  color: #000000;\n",
       "}\n",
       "#T_cf815_row10_col14 {\n",
       "  font-size: 6pt;\n",
       "  background-color: #383838;\n",
       "  color: #f1f1f1;\n",
       "}\n",
       "#T_cf815_row10_col18, #T_cf815_row14_col18, #T_cf815_row15_col18 {\n",
       "  font-size: 6pt;\n",
       "  background-color: #474747;\n",
       "  color: #f1f1f1;\n",
       "}\n",
       "#T_cf815_row11_col12 {\n",
       "  font-size: 6pt;\n",
       "  background-color: #c1c1c1;\n",
       "  color: #000000;\n",
       "}\n",
       "#T_cf815_row11_col13 {\n",
       "  font-size: 6pt;\n",
       "  background-color: #8a8a8a;\n",
       "  color: #f1f1f1;\n",
       "}\n",
       "#T_cf815_row11_col14, #T_cf815_row21_col15 {\n",
       "  font-size: 6pt;\n",
       "  background-color: #010101;\n",
       "  color: #f1f1f1;\n",
       "}\n",
       "#T_cf815_row11_col18 {\n",
       "  font-size: 6pt;\n",
       "  background-color: #939393;\n",
       "  color: #f1f1f1;\n",
       "}\n",
       "#T_cf815_row12_col10 {\n",
       "  font-size: 6pt;\n",
       "  background-color: #eaeaea;\n",
       "  color: #000000;\n",
       "}\n",
       "#T_cf815_row12_col11 {\n",
       "  font-size: 6pt;\n",
       "  background-color: #303030;\n",
       "  color: #f1f1f1;\n",
       "}\n",
       "#T_cf815_row12_col12 {\n",
       "  font-size: 6pt;\n",
       "  background-color: #050505;\n",
       "  color: #f1f1f1;\n",
       "}\n",
       "#T_cf815_row13_col11 {\n",
       "  font-size: 6pt;\n",
       "  background-color: #080808;\n",
       "  color: #f1f1f1;\n",
       "}\n",
       "#T_cf815_row13_col18 {\n",
       "  font-size: 6pt;\n",
       "  background-color: #686868;\n",
       "  color: #f1f1f1;\n",
       "}\n",
       "#T_cf815_row14_col11 {\n",
       "  font-size: 6pt;\n",
       "  background-color: #ababab;\n",
       "  color: #000000;\n",
       "}\n",
       "#T_cf815_row14_col12 {\n",
       "  font-size: 6pt;\n",
       "  background-color: #090909;\n",
       "  color: #f1f1f1;\n",
       "}\n",
       "#T_cf815_row15_col12 {\n",
       "  font-size: 6pt;\n",
       "  background-color: #d1d1d1;\n",
       "  color: #000000;\n",
       "}\n",
       "#T_cf815_row15_col13, #T_cf815_row15_col14, #T_cf815_row20_col13 {\n",
       "  font-size: 6pt;\n",
       "  background-color: #c3c3c3;\n",
       "  color: #000000;\n",
       "}\n",
       "#T_cf815_row15_col15 {\n",
       "  font-size: 6pt;\n",
       "  background-color: #bfbfbf;\n",
       "  color: #000000;\n",
       "}\n",
       "#T_cf815_row15_col16, #T_cf815_row19_col15 {\n",
       "  font-size: 6pt;\n",
       "  background-color: #101010;\n",
       "  color: #f1f1f1;\n",
       "}\n",
       "#T_cf815_row16_col16 {\n",
       "  font-size: 6pt;\n",
       "  background-color: #949494;\n",
       "  color: #f1f1f1;\n",
       "}\n",
       "#T_cf815_row17_col18 {\n",
       "  font-size: 6pt;\n",
       "  background-color: #060606;\n",
       "  color: #f1f1f1;\n",
       "}\n",
       "#T_cf815_row17_col19 {\n",
       "  font-size: 6pt;\n",
       "  background-color: #1c1c1c;\n",
       "  color: #f1f1f1;\n",
       "}\n",
       "#T_cf815_row18_col15 {\n",
       "  font-size: 6pt;\n",
       "  background-color: #898989;\n",
       "  color: #f1f1f1;\n",
       "}\n",
       "#T_cf815_row18_col18 {\n",
       "  font-size: 6pt;\n",
       "  background-color: #8e8e8e;\n",
       "  color: #f1f1f1;\n",
       "}\n",
       "#T_cf815_row19_col6 {\n",
       "  font-size: 6pt;\n",
       "  background-color: #f1f1f1;\n",
       "  color: #000000;\n",
       "}\n",
       "#T_cf815_row19_col7 {\n",
       "  font-size: 6pt;\n",
       "  background-color: #606060;\n",
       "  color: #f1f1f1;\n",
       "}\n",
       "#T_cf815_row19_col8 {\n",
       "  font-size: 6pt;\n",
       "  background-color: #c2c2c2;\n",
       "  color: #000000;\n",
       "}\n",
       "#T_cf815_row19_col14 {\n",
       "  font-size: 6pt;\n",
       "  background-color: #f3f3f3;\n",
       "  color: #000000;\n",
       "}\n",
       "#T_cf815_row20_col8 {\n",
       "  font-size: 6pt;\n",
       "  background-color: #2f2f2f;\n",
       "  color: #f1f1f1;\n",
       "}\n",
       "#T_cf815_row20_col9 {\n",
       "  font-size: 6pt;\n",
       "  background-color: #dadada;\n",
       "  color: #000000;\n",
       "}\n",
       "#T_cf815_row20_col10 {\n",
       "  font-size: 6pt;\n",
       "  background-color: #ededed;\n",
       "  color: #000000;\n",
       "}\n",
       "#T_cf815_row20_col12 {\n",
       "  font-size: 6pt;\n",
       "  background-color: #e2e2e2;\n",
       "  color: #000000;\n",
       "}\n",
       "#T_cf815_row20_col17 {\n",
       "  font-size: 6pt;\n",
       "  background-color: #888888;\n",
       "  color: #f1f1f1;\n",
       "}\n",
       "#T_cf815_row20_col18 {\n",
       "  font-size: 6pt;\n",
       "  background-color: #fbfbfb;\n",
       "  color: #000000;\n",
       "}\n",
       "#T_cf815_row21_col6 {\n",
       "  font-size: 6pt;\n",
       "  background-color: #c4c4c4;\n",
       "  color: #000000;\n",
       "}\n",
       "#T_cf815_row21_col7 {\n",
       "  font-size: 6pt;\n",
       "  background-color: #484848;\n",
       "  color: #f1f1f1;\n",
       "}\n",
       "#T_cf815_row21_col10 {\n",
       "  font-size: 6pt;\n",
       "  background-color: #252525;\n",
       "  color: #f1f1f1;\n",
       "}\n",
       "#T_cf815_row21_col11 {\n",
       "  font-size: 6pt;\n",
       "  background-color: #5d5d5d;\n",
       "  color: #f1f1f1;\n",
       "}\n",
       "#T_cf815_row21_col12 {\n",
       "  font-size: 6pt;\n",
       "  background-color: #0f0f0f;\n",
       "  color: #f1f1f1;\n",
       "}\n",
       "#T_cf815_row21_col16 {\n",
       "  font-size: 6pt;\n",
       "  background-color: #323232;\n",
       "  color: #f1f1f1;\n",
       "}\n",
       "#T_cf815_row21_col17 {\n",
       "  font-size: 6pt;\n",
       "  background-color: #fafafa;\n",
       "  color: #000000;\n",
       "}\n",
       "#T_cf815_row22_col7 {\n",
       "  font-size: 6pt;\n",
       "  background-color: #878787;\n",
       "  color: #f1f1f1;\n",
       "}\n",
       "#T_cf815_row22_col8 {\n",
       "  font-size: 6pt;\n",
       "  background-color: #b2b2b2;\n",
       "  color: #000000;\n",
       "}\n",
       "#T_cf815_row22_col15 {\n",
       "  font-size: 6pt;\n",
       "  background-color: #151515;\n",
       "  color: #f1f1f1;\n",
       "}\n",
       "#T_cf815_row23_col9, #T_cf815_row23_col10 {\n",
       "  font-size: 6pt;\n",
       "  background-color: #a3a3a3;\n",
       "  color: #f1f1f1;\n",
       "}\n",
       "#T_cf815_row23_col11 {\n",
       "  font-size: 6pt;\n",
       "  background-color: #6c6c6c;\n",
       "  color: #f1f1f1;\n",
       "}\n",
       "#T_cf815_row23_col14 {\n",
       "  font-size: 6pt;\n",
       "  background-color: #111111;\n",
       "  color: #f1f1f1;\n",
       "}\n",
       "#T_cf815_row23_col15 {\n",
       "  font-size: 6pt;\n",
       "  background-color: #e3e3e3;\n",
       "  color: #000000;\n",
       "}\n",
       "</style>\n",
       "<table id=\"T_cf815\">\n",
       "  <thead>\n",
       "    <tr>\n",
       "      <th class=\"blank level0\" >&nbsp;</th>\n",
       "      <th id=\"T_cf815_level0_col0\" class=\"col_heading level0 col0\" >0</th>\n",
       "      <th id=\"T_cf815_level0_col1\" class=\"col_heading level0 col1\" >1</th>\n",
       "      <th id=\"T_cf815_level0_col2\" class=\"col_heading level0 col2\" >2</th>\n",
       "      <th id=\"T_cf815_level0_col3\" class=\"col_heading level0 col3\" >3</th>\n",
       "      <th id=\"T_cf815_level0_col4\" class=\"col_heading level0 col4\" >4</th>\n",
       "      <th id=\"T_cf815_level0_col5\" class=\"col_heading level0 col5\" >5</th>\n",
       "      <th id=\"T_cf815_level0_col6\" class=\"col_heading level0 col6\" >6</th>\n",
       "      <th id=\"T_cf815_level0_col7\" class=\"col_heading level0 col7\" >7</th>\n",
       "      <th id=\"T_cf815_level0_col8\" class=\"col_heading level0 col8\" >8</th>\n",
       "      <th id=\"T_cf815_level0_col9\" class=\"col_heading level0 col9\" >9</th>\n",
       "      <th id=\"T_cf815_level0_col10\" class=\"col_heading level0 col10\" >10</th>\n",
       "      <th id=\"T_cf815_level0_col11\" class=\"col_heading level0 col11\" >11</th>\n",
       "      <th id=\"T_cf815_level0_col12\" class=\"col_heading level0 col12\" >12</th>\n",
       "      <th id=\"T_cf815_level0_col13\" class=\"col_heading level0 col13\" >13</th>\n",
       "      <th id=\"T_cf815_level0_col14\" class=\"col_heading level0 col14\" >14</th>\n",
       "      <th id=\"T_cf815_level0_col15\" class=\"col_heading level0 col15\" >15</th>\n",
       "      <th id=\"T_cf815_level0_col16\" class=\"col_heading level0 col16\" >16</th>\n",
       "      <th id=\"T_cf815_level0_col17\" class=\"col_heading level0 col17\" >17</th>\n",
       "      <th id=\"T_cf815_level0_col18\" class=\"col_heading level0 col18\" >18</th>\n",
       "      <th id=\"T_cf815_level0_col19\" class=\"col_heading level0 col19\" >19</th>\n",
       "      <th id=\"T_cf815_level0_col20\" class=\"col_heading level0 col20\" >20</th>\n",
       "      <th id=\"T_cf815_level0_col21\" class=\"col_heading level0 col21\" >21</th>\n",
       "      <th id=\"T_cf815_level0_col22\" class=\"col_heading level0 col22\" >22</th>\n",
       "      <th id=\"T_cf815_level0_col23\" class=\"col_heading level0 col23\" >23</th>\n",
       "      <th id=\"T_cf815_level0_col24\" class=\"col_heading level0 col24\" >24</th>\n",
       "      <th id=\"T_cf815_level0_col25\" class=\"col_heading level0 col25\" >25</th>\n",
       "      <th id=\"T_cf815_level0_col26\" class=\"col_heading level0 col26\" >26</th>\n",
       "      <th id=\"T_cf815_level0_col27\" class=\"col_heading level0 col27\" >27</th>\n",
       "    </tr>\n",
       "  </thead>\n",
       "  <tbody>\n",
       "    <tr>\n",
       "      <th id=\"T_cf815_level0_row0\" class=\"row_heading level0 row0\" >0</th>\n",
       "      <td id=\"T_cf815_row0_col0\" class=\"data row0 col0\" >0</td>\n",
       "      <td id=\"T_cf815_row0_col1\" class=\"data row0 col1\" >0</td>\n",
       "      <td id=\"T_cf815_row0_col2\" class=\"data row0 col2\" >0</td>\n",
       "      <td id=\"T_cf815_row0_col3\" class=\"data row0 col3\" >0</td>\n",
       "      <td id=\"T_cf815_row0_col4\" class=\"data row0 col4\" >0</td>\n",
       "      <td id=\"T_cf815_row0_col5\" class=\"data row0 col5\" >0</td>\n",
       "      <td id=\"T_cf815_row0_col6\" class=\"data row0 col6\" >0</td>\n",
       "      <td id=\"T_cf815_row0_col7\" class=\"data row0 col7\" >0</td>\n",
       "      <td id=\"T_cf815_row0_col8\" class=\"data row0 col8\" >0</td>\n",
       "      <td id=\"T_cf815_row0_col9\" class=\"data row0 col9\" >0</td>\n",
       "      <td id=\"T_cf815_row0_col10\" class=\"data row0 col10\" >0</td>\n",
       "      <td id=\"T_cf815_row0_col11\" class=\"data row0 col11\" >0</td>\n",
       "      <td id=\"T_cf815_row0_col12\" class=\"data row0 col12\" >0</td>\n",
       "      <td id=\"T_cf815_row0_col13\" class=\"data row0 col13\" >0</td>\n",
       "      <td id=\"T_cf815_row0_col14\" class=\"data row0 col14\" >0</td>\n",
       "      <td id=\"T_cf815_row0_col15\" class=\"data row0 col15\" >0</td>\n",
       "      <td id=\"T_cf815_row0_col16\" class=\"data row0 col16\" >0</td>\n",
       "      <td id=\"T_cf815_row0_col17\" class=\"data row0 col17\" >0</td>\n",
       "      <td id=\"T_cf815_row0_col18\" class=\"data row0 col18\" >0</td>\n",
       "      <td id=\"T_cf815_row0_col19\" class=\"data row0 col19\" >0</td>\n",
       "      <td id=\"T_cf815_row0_col20\" class=\"data row0 col20\" >0</td>\n",
       "      <td id=\"T_cf815_row0_col21\" class=\"data row0 col21\" >0</td>\n",
       "      <td id=\"T_cf815_row0_col22\" class=\"data row0 col22\" >0</td>\n",
       "      <td id=\"T_cf815_row0_col23\" class=\"data row0 col23\" >0</td>\n",
       "      <td id=\"T_cf815_row0_col24\" class=\"data row0 col24\" >0</td>\n",
       "      <td id=\"T_cf815_row0_col25\" class=\"data row0 col25\" >0</td>\n",
       "      <td id=\"T_cf815_row0_col26\" class=\"data row0 col26\" >0</td>\n",
       "      <td id=\"T_cf815_row0_col27\" class=\"data row0 col27\" >0</td>\n",
       "    </tr>\n",
       "    <tr>\n",
       "      <th id=\"T_cf815_level0_row1\" class=\"row_heading level0 row1\" >1</th>\n",
       "      <td id=\"T_cf815_row1_col0\" class=\"data row1 col0\" >0</td>\n",
       "      <td id=\"T_cf815_row1_col1\" class=\"data row1 col1\" >0</td>\n",
       "      <td id=\"T_cf815_row1_col2\" class=\"data row1 col2\" >0</td>\n",
       "      <td id=\"T_cf815_row1_col3\" class=\"data row1 col3\" >0</td>\n",
       "      <td id=\"T_cf815_row1_col4\" class=\"data row1 col4\" >0</td>\n",
       "      <td id=\"T_cf815_row1_col5\" class=\"data row1 col5\" >0</td>\n",
       "      <td id=\"T_cf815_row1_col6\" class=\"data row1 col6\" >0</td>\n",
       "      <td id=\"T_cf815_row1_col7\" class=\"data row1 col7\" >0</td>\n",
       "      <td id=\"T_cf815_row1_col8\" class=\"data row1 col8\" >0</td>\n",
       "      <td id=\"T_cf815_row1_col9\" class=\"data row1 col9\" >0</td>\n",
       "      <td id=\"T_cf815_row1_col10\" class=\"data row1 col10\" >0</td>\n",
       "      <td id=\"T_cf815_row1_col11\" class=\"data row1 col11\" >0</td>\n",
       "      <td id=\"T_cf815_row1_col12\" class=\"data row1 col12\" >0</td>\n",
       "      <td id=\"T_cf815_row1_col13\" class=\"data row1 col13\" >0</td>\n",
       "      <td id=\"T_cf815_row1_col14\" class=\"data row1 col14\" >0</td>\n",
       "      <td id=\"T_cf815_row1_col15\" class=\"data row1 col15\" >0</td>\n",
       "      <td id=\"T_cf815_row1_col16\" class=\"data row1 col16\" >0</td>\n",
       "      <td id=\"T_cf815_row1_col17\" class=\"data row1 col17\" >0</td>\n",
       "      <td id=\"T_cf815_row1_col18\" class=\"data row1 col18\" >0</td>\n",
       "      <td id=\"T_cf815_row1_col19\" class=\"data row1 col19\" >0</td>\n",
       "      <td id=\"T_cf815_row1_col20\" class=\"data row1 col20\" >0</td>\n",
       "      <td id=\"T_cf815_row1_col21\" class=\"data row1 col21\" >0</td>\n",
       "      <td id=\"T_cf815_row1_col22\" class=\"data row1 col22\" >0</td>\n",
       "      <td id=\"T_cf815_row1_col23\" class=\"data row1 col23\" >0</td>\n",
       "      <td id=\"T_cf815_row1_col24\" class=\"data row1 col24\" >0</td>\n",
       "      <td id=\"T_cf815_row1_col25\" class=\"data row1 col25\" >0</td>\n",
       "      <td id=\"T_cf815_row1_col26\" class=\"data row1 col26\" >0</td>\n",
       "      <td id=\"T_cf815_row1_col27\" class=\"data row1 col27\" >0</td>\n",
       "    </tr>\n",
       "    <tr>\n",
       "      <th id=\"T_cf815_level0_row2\" class=\"row_heading level0 row2\" >2</th>\n",
       "      <td id=\"T_cf815_row2_col0\" class=\"data row2 col0\" >0</td>\n",
       "      <td id=\"T_cf815_row2_col1\" class=\"data row2 col1\" >0</td>\n",
       "      <td id=\"T_cf815_row2_col2\" class=\"data row2 col2\" >0</td>\n",
       "      <td id=\"T_cf815_row2_col3\" class=\"data row2 col3\" >0</td>\n",
       "      <td id=\"T_cf815_row2_col4\" class=\"data row2 col4\" >0</td>\n",
       "      <td id=\"T_cf815_row2_col5\" class=\"data row2 col5\" >0</td>\n",
       "      <td id=\"T_cf815_row2_col6\" class=\"data row2 col6\" >0</td>\n",
       "      <td id=\"T_cf815_row2_col7\" class=\"data row2 col7\" >0</td>\n",
       "      <td id=\"T_cf815_row2_col8\" class=\"data row2 col8\" >0</td>\n",
       "      <td id=\"T_cf815_row2_col9\" class=\"data row2 col9\" >0</td>\n",
       "      <td id=\"T_cf815_row2_col10\" class=\"data row2 col10\" >0</td>\n",
       "      <td id=\"T_cf815_row2_col11\" class=\"data row2 col11\" >0</td>\n",
       "      <td id=\"T_cf815_row2_col12\" class=\"data row2 col12\" >0</td>\n",
       "      <td id=\"T_cf815_row2_col13\" class=\"data row2 col13\" >0</td>\n",
       "      <td id=\"T_cf815_row2_col14\" class=\"data row2 col14\" >0</td>\n",
       "      <td id=\"T_cf815_row2_col15\" class=\"data row2 col15\" >0</td>\n",
       "      <td id=\"T_cf815_row2_col16\" class=\"data row2 col16\" >0</td>\n",
       "      <td id=\"T_cf815_row2_col17\" class=\"data row2 col17\" >0</td>\n",
       "      <td id=\"T_cf815_row2_col18\" class=\"data row2 col18\" >0</td>\n",
       "      <td id=\"T_cf815_row2_col19\" class=\"data row2 col19\" >0</td>\n",
       "      <td id=\"T_cf815_row2_col20\" class=\"data row2 col20\" >0</td>\n",
       "      <td id=\"T_cf815_row2_col21\" class=\"data row2 col21\" >0</td>\n",
       "      <td id=\"T_cf815_row2_col22\" class=\"data row2 col22\" >0</td>\n",
       "      <td id=\"T_cf815_row2_col23\" class=\"data row2 col23\" >0</td>\n",
       "      <td id=\"T_cf815_row2_col24\" class=\"data row2 col24\" >0</td>\n",
       "      <td id=\"T_cf815_row2_col25\" class=\"data row2 col25\" >0</td>\n",
       "      <td id=\"T_cf815_row2_col26\" class=\"data row2 col26\" >0</td>\n",
       "      <td id=\"T_cf815_row2_col27\" class=\"data row2 col27\" >0</td>\n",
       "    </tr>\n",
       "    <tr>\n",
       "      <th id=\"T_cf815_level0_row3\" class=\"row_heading level0 row3\" >3</th>\n",
       "      <td id=\"T_cf815_row3_col0\" class=\"data row3 col0\" >0</td>\n",
       "      <td id=\"T_cf815_row3_col1\" class=\"data row3 col1\" >0</td>\n",
       "      <td id=\"T_cf815_row3_col2\" class=\"data row3 col2\" >0</td>\n",
       "      <td id=\"T_cf815_row3_col3\" class=\"data row3 col3\" >0</td>\n",
       "      <td id=\"T_cf815_row3_col4\" class=\"data row3 col4\" >0</td>\n",
       "      <td id=\"T_cf815_row3_col5\" class=\"data row3 col5\" >0</td>\n",
       "      <td id=\"T_cf815_row3_col6\" class=\"data row3 col6\" >0</td>\n",
       "      <td id=\"T_cf815_row3_col7\" class=\"data row3 col7\" >0</td>\n",
       "      <td id=\"T_cf815_row3_col8\" class=\"data row3 col8\" >0</td>\n",
       "      <td id=\"T_cf815_row3_col9\" class=\"data row3 col9\" >0</td>\n",
       "      <td id=\"T_cf815_row3_col10\" class=\"data row3 col10\" >0</td>\n",
       "      <td id=\"T_cf815_row3_col11\" class=\"data row3 col11\" >0</td>\n",
       "      <td id=\"T_cf815_row3_col12\" class=\"data row3 col12\" >0</td>\n",
       "      <td id=\"T_cf815_row3_col13\" class=\"data row3 col13\" >0</td>\n",
       "      <td id=\"T_cf815_row3_col14\" class=\"data row3 col14\" >0</td>\n",
       "      <td id=\"T_cf815_row3_col15\" class=\"data row3 col15\" >0</td>\n",
       "      <td id=\"T_cf815_row3_col16\" class=\"data row3 col16\" >0</td>\n",
       "      <td id=\"T_cf815_row3_col17\" class=\"data row3 col17\" >0</td>\n",
       "      <td id=\"T_cf815_row3_col18\" class=\"data row3 col18\" >0</td>\n",
       "      <td id=\"T_cf815_row3_col19\" class=\"data row3 col19\" >0</td>\n",
       "      <td id=\"T_cf815_row3_col20\" class=\"data row3 col20\" >0</td>\n",
       "      <td id=\"T_cf815_row3_col21\" class=\"data row3 col21\" >0</td>\n",
       "      <td id=\"T_cf815_row3_col22\" class=\"data row3 col22\" >0</td>\n",
       "      <td id=\"T_cf815_row3_col23\" class=\"data row3 col23\" >0</td>\n",
       "      <td id=\"T_cf815_row3_col24\" class=\"data row3 col24\" >0</td>\n",
       "      <td id=\"T_cf815_row3_col25\" class=\"data row3 col25\" >0</td>\n",
       "      <td id=\"T_cf815_row3_col26\" class=\"data row3 col26\" >0</td>\n",
       "      <td id=\"T_cf815_row3_col27\" class=\"data row3 col27\" >0</td>\n",
       "    </tr>\n",
       "    <tr>\n",
       "      <th id=\"T_cf815_level0_row4\" class=\"row_heading level0 row4\" >4</th>\n",
       "      <td id=\"T_cf815_row4_col0\" class=\"data row4 col0\" >0</td>\n",
       "      <td id=\"T_cf815_row4_col1\" class=\"data row4 col1\" >0</td>\n",
       "      <td id=\"T_cf815_row4_col2\" class=\"data row4 col2\" >0</td>\n",
       "      <td id=\"T_cf815_row4_col3\" class=\"data row4 col3\" >0</td>\n",
       "      <td id=\"T_cf815_row4_col4\" class=\"data row4 col4\" >0</td>\n",
       "      <td id=\"T_cf815_row4_col5\" class=\"data row4 col5\" >0</td>\n",
       "      <td id=\"T_cf815_row4_col6\" class=\"data row4 col6\" >0</td>\n",
       "      <td id=\"T_cf815_row4_col7\" class=\"data row4 col7\" >0</td>\n",
       "      <td id=\"T_cf815_row4_col8\" class=\"data row4 col8\" >0</td>\n",
       "      <td id=\"T_cf815_row4_col9\" class=\"data row4 col9\" >0</td>\n",
       "      <td id=\"T_cf815_row4_col10\" class=\"data row4 col10\" >0</td>\n",
       "      <td id=\"T_cf815_row4_col11\" class=\"data row4 col11\" >42</td>\n",
       "      <td id=\"T_cf815_row4_col12\" class=\"data row4 col12\" >118</td>\n",
       "      <td id=\"T_cf815_row4_col13\" class=\"data row4 col13\" >219</td>\n",
       "      <td id=\"T_cf815_row4_col14\" class=\"data row4 col14\" >166</td>\n",
       "      <td id=\"T_cf815_row4_col15\" class=\"data row4 col15\" >118</td>\n",
       "      <td id=\"T_cf815_row4_col16\" class=\"data row4 col16\" >118</td>\n",
       "      <td id=\"T_cf815_row4_col17\" class=\"data row4 col17\" >6</td>\n",
       "      <td id=\"T_cf815_row4_col18\" class=\"data row4 col18\" >0</td>\n",
       "      <td id=\"T_cf815_row4_col19\" class=\"data row4 col19\" >0</td>\n",
       "      <td id=\"T_cf815_row4_col20\" class=\"data row4 col20\" >0</td>\n",
       "      <td id=\"T_cf815_row4_col21\" class=\"data row4 col21\" >0</td>\n",
       "      <td id=\"T_cf815_row4_col22\" class=\"data row4 col22\" >0</td>\n",
       "      <td id=\"T_cf815_row4_col23\" class=\"data row4 col23\" >0</td>\n",
       "      <td id=\"T_cf815_row4_col24\" class=\"data row4 col24\" >0</td>\n",
       "      <td id=\"T_cf815_row4_col25\" class=\"data row4 col25\" >0</td>\n",
       "      <td id=\"T_cf815_row4_col26\" class=\"data row4 col26\" >0</td>\n",
       "      <td id=\"T_cf815_row4_col27\" class=\"data row4 col27\" >0</td>\n",
       "    </tr>\n",
       "    <tr>\n",
       "      <th id=\"T_cf815_level0_row5\" class=\"row_heading level0 row5\" >5</th>\n",
       "      <td id=\"T_cf815_row5_col0\" class=\"data row5 col0\" >0</td>\n",
       "      <td id=\"T_cf815_row5_col1\" class=\"data row5 col1\" >0</td>\n",
       "      <td id=\"T_cf815_row5_col2\" class=\"data row5 col2\" >0</td>\n",
       "      <td id=\"T_cf815_row5_col3\" class=\"data row5 col3\" >0</td>\n",
       "      <td id=\"T_cf815_row5_col4\" class=\"data row5 col4\" >0</td>\n",
       "      <td id=\"T_cf815_row5_col5\" class=\"data row5 col5\" >0</td>\n",
       "      <td id=\"T_cf815_row5_col6\" class=\"data row5 col6\" >0</td>\n",
       "      <td id=\"T_cf815_row5_col7\" class=\"data row5 col7\" >0</td>\n",
       "      <td id=\"T_cf815_row5_col8\" class=\"data row5 col8\" >0</td>\n",
       "      <td id=\"T_cf815_row5_col9\" class=\"data row5 col9\" >0</td>\n",
       "      <td id=\"T_cf815_row5_col10\" class=\"data row5 col10\" >103</td>\n",
       "      <td id=\"T_cf815_row5_col11\" class=\"data row5 col11\" >242</td>\n",
       "      <td id=\"T_cf815_row5_col12\" class=\"data row5 col12\" >254</td>\n",
       "      <td id=\"T_cf815_row5_col13\" class=\"data row5 col13\" >254</td>\n",
       "      <td id=\"T_cf815_row5_col14\" class=\"data row5 col14\" >254</td>\n",
       "      <td id=\"T_cf815_row5_col15\" class=\"data row5 col15\" >254</td>\n",
       "      <td id=\"T_cf815_row5_col16\" class=\"data row5 col16\" >254</td>\n",
       "      <td id=\"T_cf815_row5_col17\" class=\"data row5 col17\" >66</td>\n",
       "      <td id=\"T_cf815_row5_col18\" class=\"data row5 col18\" >0</td>\n",
       "      <td id=\"T_cf815_row5_col19\" class=\"data row5 col19\" >0</td>\n",
       "      <td id=\"T_cf815_row5_col20\" class=\"data row5 col20\" >0</td>\n",
       "      <td id=\"T_cf815_row5_col21\" class=\"data row5 col21\" >0</td>\n",
       "      <td id=\"T_cf815_row5_col22\" class=\"data row5 col22\" >0</td>\n",
       "      <td id=\"T_cf815_row5_col23\" class=\"data row5 col23\" >0</td>\n",
       "      <td id=\"T_cf815_row5_col24\" class=\"data row5 col24\" >0</td>\n",
       "      <td id=\"T_cf815_row5_col25\" class=\"data row5 col25\" >0</td>\n",
       "      <td id=\"T_cf815_row5_col26\" class=\"data row5 col26\" >0</td>\n",
       "      <td id=\"T_cf815_row5_col27\" class=\"data row5 col27\" >0</td>\n",
       "    </tr>\n",
       "    <tr>\n",
       "      <th id=\"T_cf815_level0_row6\" class=\"row_heading level0 row6\" >6</th>\n",
       "      <td id=\"T_cf815_row6_col0\" class=\"data row6 col0\" >0</td>\n",
       "      <td id=\"T_cf815_row6_col1\" class=\"data row6 col1\" >0</td>\n",
       "      <td id=\"T_cf815_row6_col2\" class=\"data row6 col2\" >0</td>\n",
       "      <td id=\"T_cf815_row6_col3\" class=\"data row6 col3\" >0</td>\n",
       "      <td id=\"T_cf815_row6_col4\" class=\"data row6 col4\" >0</td>\n",
       "      <td id=\"T_cf815_row6_col5\" class=\"data row6 col5\" >0</td>\n",
       "      <td id=\"T_cf815_row6_col6\" class=\"data row6 col6\" >0</td>\n",
       "      <td id=\"T_cf815_row6_col7\" class=\"data row6 col7\" >0</td>\n",
       "      <td id=\"T_cf815_row6_col8\" class=\"data row6 col8\" >0</td>\n",
       "      <td id=\"T_cf815_row6_col9\" class=\"data row6 col9\" >0</td>\n",
       "      <td id=\"T_cf815_row6_col10\" class=\"data row6 col10\" >18</td>\n",
       "      <td id=\"T_cf815_row6_col11\" class=\"data row6 col11\" >232</td>\n",
       "      <td id=\"T_cf815_row6_col12\" class=\"data row6 col12\" >254</td>\n",
       "      <td id=\"T_cf815_row6_col13\" class=\"data row6 col13\" >254</td>\n",
       "      <td id=\"T_cf815_row6_col14\" class=\"data row6 col14\" >254</td>\n",
       "      <td id=\"T_cf815_row6_col15\" class=\"data row6 col15\" >254</td>\n",
       "      <td id=\"T_cf815_row6_col16\" class=\"data row6 col16\" >254</td>\n",
       "      <td id=\"T_cf815_row6_col17\" class=\"data row6 col17\" >238</td>\n",
       "      <td id=\"T_cf815_row6_col18\" class=\"data row6 col18\" >70</td>\n",
       "      <td id=\"T_cf815_row6_col19\" class=\"data row6 col19\" >0</td>\n",
       "      <td id=\"T_cf815_row6_col20\" class=\"data row6 col20\" >0</td>\n",
       "      <td id=\"T_cf815_row6_col21\" class=\"data row6 col21\" >0</td>\n",
       "      <td id=\"T_cf815_row6_col22\" class=\"data row6 col22\" >0</td>\n",
       "      <td id=\"T_cf815_row6_col23\" class=\"data row6 col23\" >0</td>\n",
       "      <td id=\"T_cf815_row6_col24\" class=\"data row6 col24\" >0</td>\n",
       "      <td id=\"T_cf815_row6_col25\" class=\"data row6 col25\" >0</td>\n",
       "      <td id=\"T_cf815_row6_col26\" class=\"data row6 col26\" >0</td>\n",
       "      <td id=\"T_cf815_row6_col27\" class=\"data row6 col27\" >0</td>\n",
       "    </tr>\n",
       "    <tr>\n",
       "      <th id=\"T_cf815_level0_row7\" class=\"row_heading level0 row7\" >7</th>\n",
       "      <td id=\"T_cf815_row7_col0\" class=\"data row7 col0\" >0</td>\n",
       "      <td id=\"T_cf815_row7_col1\" class=\"data row7 col1\" >0</td>\n",
       "      <td id=\"T_cf815_row7_col2\" class=\"data row7 col2\" >0</td>\n",
       "      <td id=\"T_cf815_row7_col3\" class=\"data row7 col3\" >0</td>\n",
       "      <td id=\"T_cf815_row7_col4\" class=\"data row7 col4\" >0</td>\n",
       "      <td id=\"T_cf815_row7_col5\" class=\"data row7 col5\" >0</td>\n",
       "      <td id=\"T_cf815_row7_col6\" class=\"data row7 col6\" >0</td>\n",
       "      <td id=\"T_cf815_row7_col7\" class=\"data row7 col7\" >0</td>\n",
       "      <td id=\"T_cf815_row7_col8\" class=\"data row7 col8\" >0</td>\n",
       "      <td id=\"T_cf815_row7_col9\" class=\"data row7 col9\" >0</td>\n",
       "      <td id=\"T_cf815_row7_col10\" class=\"data row7 col10\" >0</td>\n",
       "      <td id=\"T_cf815_row7_col11\" class=\"data row7 col11\" >104</td>\n",
       "      <td id=\"T_cf815_row7_col12\" class=\"data row7 col12\" >244</td>\n",
       "      <td id=\"T_cf815_row7_col13\" class=\"data row7 col13\" >254</td>\n",
       "      <td id=\"T_cf815_row7_col14\" class=\"data row7 col14\" >224</td>\n",
       "      <td id=\"T_cf815_row7_col15\" class=\"data row7 col15\" >254</td>\n",
       "      <td id=\"T_cf815_row7_col16\" class=\"data row7 col16\" >254</td>\n",
       "      <td id=\"T_cf815_row7_col17\" class=\"data row7 col17\" >254</td>\n",
       "      <td id=\"T_cf815_row7_col18\" class=\"data row7 col18\" >141</td>\n",
       "      <td id=\"T_cf815_row7_col19\" class=\"data row7 col19\" >0</td>\n",
       "      <td id=\"T_cf815_row7_col20\" class=\"data row7 col20\" >0</td>\n",
       "      <td id=\"T_cf815_row7_col21\" class=\"data row7 col21\" >0</td>\n",
       "      <td id=\"T_cf815_row7_col22\" class=\"data row7 col22\" >0</td>\n",
       "      <td id=\"T_cf815_row7_col23\" class=\"data row7 col23\" >0</td>\n",
       "      <td id=\"T_cf815_row7_col24\" class=\"data row7 col24\" >0</td>\n",
       "      <td id=\"T_cf815_row7_col25\" class=\"data row7 col25\" >0</td>\n",
       "      <td id=\"T_cf815_row7_col26\" class=\"data row7 col26\" >0</td>\n",
       "      <td id=\"T_cf815_row7_col27\" class=\"data row7 col27\" >0</td>\n",
       "    </tr>\n",
       "    <tr>\n",
       "      <th id=\"T_cf815_level0_row8\" class=\"row_heading level0 row8\" >8</th>\n",
       "      <td id=\"T_cf815_row8_col0\" class=\"data row8 col0\" >0</td>\n",
       "      <td id=\"T_cf815_row8_col1\" class=\"data row8 col1\" >0</td>\n",
       "      <td id=\"T_cf815_row8_col2\" class=\"data row8 col2\" >0</td>\n",
       "      <td id=\"T_cf815_row8_col3\" class=\"data row8 col3\" >0</td>\n",
       "      <td id=\"T_cf815_row8_col4\" class=\"data row8 col4\" >0</td>\n",
       "      <td id=\"T_cf815_row8_col5\" class=\"data row8 col5\" >0</td>\n",
       "      <td id=\"T_cf815_row8_col6\" class=\"data row8 col6\" >0</td>\n",
       "      <td id=\"T_cf815_row8_col7\" class=\"data row8 col7\" >0</td>\n",
       "      <td id=\"T_cf815_row8_col8\" class=\"data row8 col8\" >0</td>\n",
       "      <td id=\"T_cf815_row8_col9\" class=\"data row8 col9\" >0</td>\n",
       "      <td id=\"T_cf815_row8_col10\" class=\"data row8 col10\" >0</td>\n",
       "      <td id=\"T_cf815_row8_col11\" class=\"data row8 col11\" >0</td>\n",
       "      <td id=\"T_cf815_row8_col12\" class=\"data row8 col12\" >207</td>\n",
       "      <td id=\"T_cf815_row8_col13\" class=\"data row8 col13\" >254</td>\n",
       "      <td id=\"T_cf815_row8_col14\" class=\"data row8 col14\" >210</td>\n",
       "      <td id=\"T_cf815_row8_col15\" class=\"data row8 col15\" >254</td>\n",
       "      <td id=\"T_cf815_row8_col16\" class=\"data row8 col16\" >254</td>\n",
       "      <td id=\"T_cf815_row8_col17\" class=\"data row8 col17\" >254</td>\n",
       "      <td id=\"T_cf815_row8_col18\" class=\"data row8 col18\" >34</td>\n",
       "      <td id=\"T_cf815_row8_col19\" class=\"data row8 col19\" >0</td>\n",
       "      <td id=\"T_cf815_row8_col20\" class=\"data row8 col20\" >0</td>\n",
       "      <td id=\"T_cf815_row8_col21\" class=\"data row8 col21\" >0</td>\n",
       "      <td id=\"T_cf815_row8_col22\" class=\"data row8 col22\" >0</td>\n",
       "      <td id=\"T_cf815_row8_col23\" class=\"data row8 col23\" >0</td>\n",
       "      <td id=\"T_cf815_row8_col24\" class=\"data row8 col24\" >0</td>\n",
       "      <td id=\"T_cf815_row8_col25\" class=\"data row8 col25\" >0</td>\n",
       "      <td id=\"T_cf815_row8_col26\" class=\"data row8 col26\" >0</td>\n",
       "      <td id=\"T_cf815_row8_col27\" class=\"data row8 col27\" >0</td>\n",
       "    </tr>\n",
       "    <tr>\n",
       "      <th id=\"T_cf815_level0_row9\" class=\"row_heading level0 row9\" >9</th>\n",
       "      <td id=\"T_cf815_row9_col0\" class=\"data row9 col0\" >0</td>\n",
       "      <td id=\"T_cf815_row9_col1\" class=\"data row9 col1\" >0</td>\n",
       "      <td id=\"T_cf815_row9_col2\" class=\"data row9 col2\" >0</td>\n",
       "      <td id=\"T_cf815_row9_col3\" class=\"data row9 col3\" >0</td>\n",
       "      <td id=\"T_cf815_row9_col4\" class=\"data row9 col4\" >0</td>\n",
       "      <td id=\"T_cf815_row9_col5\" class=\"data row9 col5\" >0</td>\n",
       "      <td id=\"T_cf815_row9_col6\" class=\"data row9 col6\" >0</td>\n",
       "      <td id=\"T_cf815_row9_col7\" class=\"data row9 col7\" >0</td>\n",
       "      <td id=\"T_cf815_row9_col8\" class=\"data row9 col8\" >0</td>\n",
       "      <td id=\"T_cf815_row9_col9\" class=\"data row9 col9\" >0</td>\n",
       "      <td id=\"T_cf815_row9_col10\" class=\"data row9 col10\" >0</td>\n",
       "      <td id=\"T_cf815_row9_col11\" class=\"data row9 col11\" >0</td>\n",
       "      <td id=\"T_cf815_row9_col12\" class=\"data row9 col12\" >84</td>\n",
       "      <td id=\"T_cf815_row9_col13\" class=\"data row9 col13\" >206</td>\n",
       "      <td id=\"T_cf815_row9_col14\" class=\"data row9 col14\" >254</td>\n",
       "      <td id=\"T_cf815_row9_col15\" class=\"data row9 col15\" >254</td>\n",
       "      <td id=\"T_cf815_row9_col16\" class=\"data row9 col16\" >254</td>\n",
       "      <td id=\"T_cf815_row9_col17\" class=\"data row9 col17\" >254</td>\n",
       "      <td id=\"T_cf815_row9_col18\" class=\"data row9 col18\" >41</td>\n",
       "      <td id=\"T_cf815_row9_col19\" class=\"data row9 col19\" >0</td>\n",
       "      <td id=\"T_cf815_row9_col20\" class=\"data row9 col20\" >0</td>\n",
       "      <td id=\"T_cf815_row9_col21\" class=\"data row9 col21\" >0</td>\n",
       "      <td id=\"T_cf815_row9_col22\" class=\"data row9 col22\" >0</td>\n",
       "      <td id=\"T_cf815_row9_col23\" class=\"data row9 col23\" >0</td>\n",
       "      <td id=\"T_cf815_row9_col24\" class=\"data row9 col24\" >0</td>\n",
       "      <td id=\"T_cf815_row9_col25\" class=\"data row9 col25\" >0</td>\n",
       "      <td id=\"T_cf815_row9_col26\" class=\"data row9 col26\" >0</td>\n",
       "      <td id=\"T_cf815_row9_col27\" class=\"data row9 col27\" >0</td>\n",
       "    </tr>\n",
       "    <tr>\n",
       "      <th id=\"T_cf815_level0_row10\" class=\"row_heading level0 row10\" >10</th>\n",
       "      <td id=\"T_cf815_row10_col0\" class=\"data row10 col0\" >0</td>\n",
       "      <td id=\"T_cf815_row10_col1\" class=\"data row10 col1\" >0</td>\n",
       "      <td id=\"T_cf815_row10_col2\" class=\"data row10 col2\" >0</td>\n",
       "      <td id=\"T_cf815_row10_col3\" class=\"data row10 col3\" >0</td>\n",
       "      <td id=\"T_cf815_row10_col4\" class=\"data row10 col4\" >0</td>\n",
       "      <td id=\"T_cf815_row10_col5\" class=\"data row10 col5\" >0</td>\n",
       "      <td id=\"T_cf815_row10_col6\" class=\"data row10 col6\" >0</td>\n",
       "      <td id=\"T_cf815_row10_col7\" class=\"data row10 col7\" >0</td>\n",
       "      <td id=\"T_cf815_row10_col8\" class=\"data row10 col8\" >0</td>\n",
       "      <td id=\"T_cf815_row10_col9\" class=\"data row10 col9\" >0</td>\n",
       "      <td id=\"T_cf815_row10_col10\" class=\"data row10 col10\" >0</td>\n",
       "      <td id=\"T_cf815_row10_col11\" class=\"data row10 col11\" >0</td>\n",
       "      <td id=\"T_cf815_row10_col12\" class=\"data row10 col12\" >0</td>\n",
       "      <td id=\"T_cf815_row10_col13\" class=\"data row10 col13\" >24</td>\n",
       "      <td id=\"T_cf815_row10_col14\" class=\"data row10 col14\" >209</td>\n",
       "      <td id=\"T_cf815_row10_col15\" class=\"data row10 col15\" >254</td>\n",
       "      <td id=\"T_cf815_row10_col16\" class=\"data row10 col16\" >254</td>\n",
       "      <td id=\"T_cf815_row10_col17\" class=\"data row10 col17\" >254</td>\n",
       "      <td id=\"T_cf815_row10_col18\" class=\"data row10 col18\" >171</td>\n",
       "      <td id=\"T_cf815_row10_col19\" class=\"data row10 col19\" >0</td>\n",
       "      <td id=\"T_cf815_row10_col20\" class=\"data row10 col20\" >0</td>\n",
       "      <td id=\"T_cf815_row10_col21\" class=\"data row10 col21\" >0</td>\n",
       "      <td id=\"T_cf815_row10_col22\" class=\"data row10 col22\" >0</td>\n",
       "      <td id=\"T_cf815_row10_col23\" class=\"data row10 col23\" >0</td>\n",
       "      <td id=\"T_cf815_row10_col24\" class=\"data row10 col24\" >0</td>\n",
       "      <td id=\"T_cf815_row10_col25\" class=\"data row10 col25\" >0</td>\n",
       "      <td id=\"T_cf815_row10_col26\" class=\"data row10 col26\" >0</td>\n",
       "      <td id=\"T_cf815_row10_col27\" class=\"data row10 col27\" >0</td>\n",
       "    </tr>\n",
       "    <tr>\n",
       "      <th id=\"T_cf815_level0_row11\" class=\"row_heading level0 row11\" >11</th>\n",
       "      <td id=\"T_cf815_row11_col0\" class=\"data row11 col0\" >0</td>\n",
       "      <td id=\"T_cf815_row11_col1\" class=\"data row11 col1\" >0</td>\n",
       "      <td id=\"T_cf815_row11_col2\" class=\"data row11 col2\" >0</td>\n",
       "      <td id=\"T_cf815_row11_col3\" class=\"data row11 col3\" >0</td>\n",
       "      <td id=\"T_cf815_row11_col4\" class=\"data row11 col4\" >0</td>\n",
       "      <td id=\"T_cf815_row11_col5\" class=\"data row11 col5\" >0</td>\n",
       "      <td id=\"T_cf815_row11_col6\" class=\"data row11 col6\" >0</td>\n",
       "      <td id=\"T_cf815_row11_col7\" class=\"data row11 col7\" >0</td>\n",
       "      <td id=\"T_cf815_row11_col8\" class=\"data row11 col8\" >0</td>\n",
       "      <td id=\"T_cf815_row11_col9\" class=\"data row11 col9\" >0</td>\n",
       "      <td id=\"T_cf815_row11_col10\" class=\"data row11 col10\" >0</td>\n",
       "      <td id=\"T_cf815_row11_col11\" class=\"data row11 col11\" >0</td>\n",
       "      <td id=\"T_cf815_row11_col12\" class=\"data row11 col12\" >91</td>\n",
       "      <td id=\"T_cf815_row11_col13\" class=\"data row11 col13\" >137</td>\n",
       "      <td id=\"T_cf815_row11_col14\" class=\"data row11 col14\" >253</td>\n",
       "      <td id=\"T_cf815_row11_col15\" class=\"data row11 col15\" >254</td>\n",
       "      <td id=\"T_cf815_row11_col16\" class=\"data row11 col16\" >254</td>\n",
       "      <td id=\"T_cf815_row11_col17\" class=\"data row11 col17\" >254</td>\n",
       "      <td id=\"T_cf815_row11_col18\" class=\"data row11 col18\" >112</td>\n",
       "      <td id=\"T_cf815_row11_col19\" class=\"data row11 col19\" >0</td>\n",
       "      <td id=\"T_cf815_row11_col20\" class=\"data row11 col20\" >0</td>\n",
       "      <td id=\"T_cf815_row11_col21\" class=\"data row11 col21\" >0</td>\n",
       "      <td id=\"T_cf815_row11_col22\" class=\"data row11 col22\" >0</td>\n",
       "      <td id=\"T_cf815_row11_col23\" class=\"data row11 col23\" >0</td>\n",
       "      <td id=\"T_cf815_row11_col24\" class=\"data row11 col24\" >0</td>\n",
       "      <td id=\"T_cf815_row11_col25\" class=\"data row11 col25\" >0</td>\n",
       "      <td id=\"T_cf815_row11_col26\" class=\"data row11 col26\" >0</td>\n",
       "      <td id=\"T_cf815_row11_col27\" class=\"data row11 col27\" >0</td>\n",
       "    </tr>\n",
       "    <tr>\n",
       "      <th id=\"T_cf815_level0_row12\" class=\"row_heading level0 row12\" >12</th>\n",
       "      <td id=\"T_cf815_row12_col0\" class=\"data row12 col0\" >0</td>\n",
       "      <td id=\"T_cf815_row12_col1\" class=\"data row12 col1\" >0</td>\n",
       "      <td id=\"T_cf815_row12_col2\" class=\"data row12 col2\" >0</td>\n",
       "      <td id=\"T_cf815_row12_col3\" class=\"data row12 col3\" >0</td>\n",
       "      <td id=\"T_cf815_row12_col4\" class=\"data row12 col4\" >0</td>\n",
       "      <td id=\"T_cf815_row12_col5\" class=\"data row12 col5\" >0</td>\n",
       "      <td id=\"T_cf815_row12_col6\" class=\"data row12 col6\" >0</td>\n",
       "      <td id=\"T_cf815_row12_col7\" class=\"data row12 col7\" >0</td>\n",
       "      <td id=\"T_cf815_row12_col8\" class=\"data row12 col8\" >0</td>\n",
       "      <td id=\"T_cf815_row12_col9\" class=\"data row12 col9\" >0</td>\n",
       "      <td id=\"T_cf815_row12_col10\" class=\"data row12 col10\" >40</td>\n",
       "      <td id=\"T_cf815_row12_col11\" class=\"data row12 col11\" >214</td>\n",
       "      <td id=\"T_cf815_row12_col12\" class=\"data row12 col12\" >250</td>\n",
       "      <td id=\"T_cf815_row12_col13\" class=\"data row12 col13\" >254</td>\n",
       "      <td id=\"T_cf815_row12_col14\" class=\"data row12 col14\" >254</td>\n",
       "      <td id=\"T_cf815_row12_col15\" class=\"data row12 col15\" >254</td>\n",
       "      <td id=\"T_cf815_row12_col16\" class=\"data row12 col16\" >254</td>\n",
       "      <td id=\"T_cf815_row12_col17\" class=\"data row12 col17\" >254</td>\n",
       "      <td id=\"T_cf815_row12_col18\" class=\"data row12 col18\" >34</td>\n",
       "      <td id=\"T_cf815_row12_col19\" class=\"data row12 col19\" >0</td>\n",
       "      <td id=\"T_cf815_row12_col20\" class=\"data row12 col20\" >0</td>\n",
       "      <td id=\"T_cf815_row12_col21\" class=\"data row12 col21\" >0</td>\n",
       "      <td id=\"T_cf815_row12_col22\" class=\"data row12 col22\" >0</td>\n",
       "      <td id=\"T_cf815_row12_col23\" class=\"data row12 col23\" >0</td>\n",
       "      <td id=\"T_cf815_row12_col24\" class=\"data row12 col24\" >0</td>\n",
       "      <td id=\"T_cf815_row12_col25\" class=\"data row12 col25\" >0</td>\n",
       "      <td id=\"T_cf815_row12_col26\" class=\"data row12 col26\" >0</td>\n",
       "      <td id=\"T_cf815_row12_col27\" class=\"data row12 col27\" >0</td>\n",
       "    </tr>\n",
       "    <tr>\n",
       "      <th id=\"T_cf815_level0_row13\" class=\"row_heading level0 row13\" >13</th>\n",
       "      <td id=\"T_cf815_row13_col0\" class=\"data row13 col0\" >0</td>\n",
       "      <td id=\"T_cf815_row13_col1\" class=\"data row13 col1\" >0</td>\n",
       "      <td id=\"T_cf815_row13_col2\" class=\"data row13 col2\" >0</td>\n",
       "      <td id=\"T_cf815_row13_col3\" class=\"data row13 col3\" >0</td>\n",
       "      <td id=\"T_cf815_row13_col4\" class=\"data row13 col4\" >0</td>\n",
       "      <td id=\"T_cf815_row13_col5\" class=\"data row13 col5\" >0</td>\n",
       "      <td id=\"T_cf815_row13_col6\" class=\"data row13 col6\" >0</td>\n",
       "      <td id=\"T_cf815_row13_col7\" class=\"data row13 col7\" >0</td>\n",
       "      <td id=\"T_cf815_row13_col8\" class=\"data row13 col8\" >0</td>\n",
       "      <td id=\"T_cf815_row13_col9\" class=\"data row13 col9\" >0</td>\n",
       "      <td id=\"T_cf815_row13_col10\" class=\"data row13 col10\" >81</td>\n",
       "      <td id=\"T_cf815_row13_col11\" class=\"data row13 col11\" >247</td>\n",
       "      <td id=\"T_cf815_row13_col12\" class=\"data row13 col12\" >254</td>\n",
       "      <td id=\"T_cf815_row13_col13\" class=\"data row13 col13\" >254</td>\n",
       "      <td id=\"T_cf815_row13_col14\" class=\"data row13 col14\" >254</td>\n",
       "      <td id=\"T_cf815_row13_col15\" class=\"data row13 col15\" >254</td>\n",
       "      <td id=\"T_cf815_row13_col16\" class=\"data row13 col16\" >254</td>\n",
       "      <td id=\"T_cf815_row13_col17\" class=\"data row13 col17\" >254</td>\n",
       "      <td id=\"T_cf815_row13_col18\" class=\"data row13 col18\" >146</td>\n",
       "      <td id=\"T_cf815_row13_col19\" class=\"data row13 col19\" >0</td>\n",
       "      <td id=\"T_cf815_row13_col20\" class=\"data row13 col20\" >0</td>\n",
       "      <td id=\"T_cf815_row13_col21\" class=\"data row13 col21\" >0</td>\n",
       "      <td id=\"T_cf815_row13_col22\" class=\"data row13 col22\" >0</td>\n",
       "      <td id=\"T_cf815_row13_col23\" class=\"data row13 col23\" >0</td>\n",
       "      <td id=\"T_cf815_row13_col24\" class=\"data row13 col24\" >0</td>\n",
       "      <td id=\"T_cf815_row13_col25\" class=\"data row13 col25\" >0</td>\n",
       "      <td id=\"T_cf815_row13_col26\" class=\"data row13 col26\" >0</td>\n",
       "      <td id=\"T_cf815_row13_col27\" class=\"data row13 col27\" >0</td>\n",
       "    </tr>\n",
       "    <tr>\n",
       "      <th id=\"T_cf815_level0_row14\" class=\"row_heading level0 row14\" >14</th>\n",
       "      <td id=\"T_cf815_row14_col0\" class=\"data row14 col0\" >0</td>\n",
       "      <td id=\"T_cf815_row14_col1\" class=\"data row14 col1\" >0</td>\n",
       "      <td id=\"T_cf815_row14_col2\" class=\"data row14 col2\" >0</td>\n",
       "      <td id=\"T_cf815_row14_col3\" class=\"data row14 col3\" >0</td>\n",
       "      <td id=\"T_cf815_row14_col4\" class=\"data row14 col4\" >0</td>\n",
       "      <td id=\"T_cf815_row14_col5\" class=\"data row14 col5\" >0</td>\n",
       "      <td id=\"T_cf815_row14_col6\" class=\"data row14 col6\" >0</td>\n",
       "      <td id=\"T_cf815_row14_col7\" class=\"data row14 col7\" >0</td>\n",
       "      <td id=\"T_cf815_row14_col8\" class=\"data row14 col8\" >0</td>\n",
       "      <td id=\"T_cf815_row14_col9\" class=\"data row14 col9\" >0</td>\n",
       "      <td id=\"T_cf815_row14_col10\" class=\"data row14 col10\" >0</td>\n",
       "      <td id=\"T_cf815_row14_col11\" class=\"data row14 col11\" >110</td>\n",
       "      <td id=\"T_cf815_row14_col12\" class=\"data row14 col12\" >246</td>\n",
       "      <td id=\"T_cf815_row14_col13\" class=\"data row14 col13\" >254</td>\n",
       "      <td id=\"T_cf815_row14_col14\" class=\"data row14 col14\" >254</td>\n",
       "      <td id=\"T_cf815_row14_col15\" class=\"data row14 col15\" >254</td>\n",
       "      <td id=\"T_cf815_row14_col16\" class=\"data row14 col16\" >254</td>\n",
       "      <td id=\"T_cf815_row14_col17\" class=\"data row14 col17\" >254</td>\n",
       "      <td id=\"T_cf815_row14_col18\" class=\"data row14 col18\" >171</td>\n",
       "      <td id=\"T_cf815_row14_col19\" class=\"data row14 col19\" >0</td>\n",
       "      <td id=\"T_cf815_row14_col20\" class=\"data row14 col20\" >0</td>\n",
       "      <td id=\"T_cf815_row14_col21\" class=\"data row14 col21\" >0</td>\n",
       "      <td id=\"T_cf815_row14_col22\" class=\"data row14 col22\" >0</td>\n",
       "      <td id=\"T_cf815_row14_col23\" class=\"data row14 col23\" >0</td>\n",
       "      <td id=\"T_cf815_row14_col24\" class=\"data row14 col24\" >0</td>\n",
       "      <td id=\"T_cf815_row14_col25\" class=\"data row14 col25\" >0</td>\n",
       "      <td id=\"T_cf815_row14_col26\" class=\"data row14 col26\" >0</td>\n",
       "      <td id=\"T_cf815_row14_col27\" class=\"data row14 col27\" >0</td>\n",
       "    </tr>\n",
       "    <tr>\n",
       "      <th id=\"T_cf815_level0_row15\" class=\"row_heading level0 row15\" >15</th>\n",
       "      <td id=\"T_cf815_row15_col0\" class=\"data row15 col0\" >0</td>\n",
       "      <td id=\"T_cf815_row15_col1\" class=\"data row15 col1\" >0</td>\n",
       "      <td id=\"T_cf815_row15_col2\" class=\"data row15 col2\" >0</td>\n",
       "      <td id=\"T_cf815_row15_col3\" class=\"data row15 col3\" >0</td>\n",
       "      <td id=\"T_cf815_row15_col4\" class=\"data row15 col4\" >0</td>\n",
       "      <td id=\"T_cf815_row15_col5\" class=\"data row15 col5\" >0</td>\n",
       "      <td id=\"T_cf815_row15_col6\" class=\"data row15 col6\" >0</td>\n",
       "      <td id=\"T_cf815_row15_col7\" class=\"data row15 col7\" >0</td>\n",
       "      <td id=\"T_cf815_row15_col8\" class=\"data row15 col8\" >0</td>\n",
       "      <td id=\"T_cf815_row15_col9\" class=\"data row15 col9\" >0</td>\n",
       "      <td id=\"T_cf815_row15_col10\" class=\"data row15 col10\" >0</td>\n",
       "      <td id=\"T_cf815_row15_col11\" class=\"data row15 col11\" >0</td>\n",
       "      <td id=\"T_cf815_row15_col12\" class=\"data row15 col12\" >73</td>\n",
       "      <td id=\"T_cf815_row15_col13\" class=\"data row15 col13\" >89</td>\n",
       "      <td id=\"T_cf815_row15_col14\" class=\"data row15 col14\" >89</td>\n",
       "      <td id=\"T_cf815_row15_col15\" class=\"data row15 col15\" >93</td>\n",
       "      <td id=\"T_cf815_row15_col16\" class=\"data row15 col16\" >240</td>\n",
       "      <td id=\"T_cf815_row15_col17\" class=\"data row15 col17\" >254</td>\n",
       "      <td id=\"T_cf815_row15_col18\" class=\"data row15 col18\" >171</td>\n",
       "      <td id=\"T_cf815_row15_col19\" class=\"data row15 col19\" >0</td>\n",
       "      <td id=\"T_cf815_row15_col20\" class=\"data row15 col20\" >0</td>\n",
       "      <td id=\"T_cf815_row15_col21\" class=\"data row15 col21\" >0</td>\n",
       "      <td id=\"T_cf815_row15_col22\" class=\"data row15 col22\" >0</td>\n",
       "      <td id=\"T_cf815_row15_col23\" class=\"data row15 col23\" >0</td>\n",
       "      <td id=\"T_cf815_row15_col24\" class=\"data row15 col24\" >0</td>\n",
       "      <td id=\"T_cf815_row15_col25\" class=\"data row15 col25\" >0</td>\n",
       "      <td id=\"T_cf815_row15_col26\" class=\"data row15 col26\" >0</td>\n",
       "      <td id=\"T_cf815_row15_col27\" class=\"data row15 col27\" >0</td>\n",
       "    </tr>\n",
       "    <tr>\n",
       "      <th id=\"T_cf815_level0_row16\" class=\"row_heading level0 row16\" >16</th>\n",
       "      <td id=\"T_cf815_row16_col0\" class=\"data row16 col0\" >0</td>\n",
       "      <td id=\"T_cf815_row16_col1\" class=\"data row16 col1\" >0</td>\n",
       "      <td id=\"T_cf815_row16_col2\" class=\"data row16 col2\" >0</td>\n",
       "      <td id=\"T_cf815_row16_col3\" class=\"data row16 col3\" >0</td>\n",
       "      <td id=\"T_cf815_row16_col4\" class=\"data row16 col4\" >0</td>\n",
       "      <td id=\"T_cf815_row16_col5\" class=\"data row16 col5\" >0</td>\n",
       "      <td id=\"T_cf815_row16_col6\" class=\"data row16 col6\" >0</td>\n",
       "      <td id=\"T_cf815_row16_col7\" class=\"data row16 col7\" >0</td>\n",
       "      <td id=\"T_cf815_row16_col8\" class=\"data row16 col8\" >0</td>\n",
       "      <td id=\"T_cf815_row16_col9\" class=\"data row16 col9\" >0</td>\n",
       "      <td id=\"T_cf815_row16_col10\" class=\"data row16 col10\" >0</td>\n",
       "      <td id=\"T_cf815_row16_col11\" class=\"data row16 col11\" >0</td>\n",
       "      <td id=\"T_cf815_row16_col12\" class=\"data row16 col12\" >0</td>\n",
       "      <td id=\"T_cf815_row16_col13\" class=\"data row16 col13\" >0</td>\n",
       "      <td id=\"T_cf815_row16_col14\" class=\"data row16 col14\" >0</td>\n",
       "      <td id=\"T_cf815_row16_col15\" class=\"data row16 col15\" >1</td>\n",
       "      <td id=\"T_cf815_row16_col16\" class=\"data row16 col16\" >128</td>\n",
       "      <td id=\"T_cf815_row16_col17\" class=\"data row16 col17\" >254</td>\n",
       "      <td id=\"T_cf815_row16_col18\" class=\"data row16 col18\" >219</td>\n",
       "      <td id=\"T_cf815_row16_col19\" class=\"data row16 col19\" >31</td>\n",
       "      <td id=\"T_cf815_row16_col20\" class=\"data row16 col20\" >0</td>\n",
       "      <td id=\"T_cf815_row16_col21\" class=\"data row16 col21\" >0</td>\n",
       "      <td id=\"T_cf815_row16_col22\" class=\"data row16 col22\" >0</td>\n",
       "      <td id=\"T_cf815_row16_col23\" class=\"data row16 col23\" >0</td>\n",
       "      <td id=\"T_cf815_row16_col24\" class=\"data row16 col24\" >0</td>\n",
       "      <td id=\"T_cf815_row16_col25\" class=\"data row16 col25\" >0</td>\n",
       "      <td id=\"T_cf815_row16_col26\" class=\"data row16 col26\" >0</td>\n",
       "      <td id=\"T_cf815_row16_col27\" class=\"data row16 col27\" >0</td>\n",
       "    </tr>\n",
       "    <tr>\n",
       "      <th id=\"T_cf815_level0_row17\" class=\"row_heading level0 row17\" >17</th>\n",
       "      <td id=\"T_cf815_row17_col0\" class=\"data row17 col0\" >0</td>\n",
       "      <td id=\"T_cf815_row17_col1\" class=\"data row17 col1\" >0</td>\n",
       "      <td id=\"T_cf815_row17_col2\" class=\"data row17 col2\" >0</td>\n",
       "      <td id=\"T_cf815_row17_col3\" class=\"data row17 col3\" >0</td>\n",
       "      <td id=\"T_cf815_row17_col4\" class=\"data row17 col4\" >0</td>\n",
       "      <td id=\"T_cf815_row17_col5\" class=\"data row17 col5\" >0</td>\n",
       "      <td id=\"T_cf815_row17_col6\" class=\"data row17 col6\" >0</td>\n",
       "      <td id=\"T_cf815_row17_col7\" class=\"data row17 col7\" >0</td>\n",
       "      <td id=\"T_cf815_row17_col8\" class=\"data row17 col8\" >0</td>\n",
       "      <td id=\"T_cf815_row17_col9\" class=\"data row17 col9\" >0</td>\n",
       "      <td id=\"T_cf815_row17_col10\" class=\"data row17 col10\" >0</td>\n",
       "      <td id=\"T_cf815_row17_col11\" class=\"data row17 col11\" >0</td>\n",
       "      <td id=\"T_cf815_row17_col12\" class=\"data row17 col12\" >0</td>\n",
       "      <td id=\"T_cf815_row17_col13\" class=\"data row17 col13\" >0</td>\n",
       "      <td id=\"T_cf815_row17_col14\" class=\"data row17 col14\" >0</td>\n",
       "      <td id=\"T_cf815_row17_col15\" class=\"data row17 col15\" >7</td>\n",
       "      <td id=\"T_cf815_row17_col16\" class=\"data row17 col16\" >254</td>\n",
       "      <td id=\"T_cf815_row17_col17\" class=\"data row17 col17\" >254</td>\n",
       "      <td id=\"T_cf815_row17_col18\" class=\"data row17 col18\" >214</td>\n",
       "      <td id=\"T_cf815_row17_col19\" class=\"data row17 col19\" >28</td>\n",
       "      <td id=\"T_cf815_row17_col20\" class=\"data row17 col20\" >0</td>\n",
       "      <td id=\"T_cf815_row17_col21\" class=\"data row17 col21\" >0</td>\n",
       "      <td id=\"T_cf815_row17_col22\" class=\"data row17 col22\" >0</td>\n",
       "      <td id=\"T_cf815_row17_col23\" class=\"data row17 col23\" >0</td>\n",
       "      <td id=\"T_cf815_row17_col24\" class=\"data row17 col24\" >0</td>\n",
       "      <td id=\"T_cf815_row17_col25\" class=\"data row17 col25\" >0</td>\n",
       "      <td id=\"T_cf815_row17_col26\" class=\"data row17 col26\" >0</td>\n",
       "      <td id=\"T_cf815_row17_col27\" class=\"data row17 col27\" >0</td>\n",
       "    </tr>\n",
       "    <tr>\n",
       "      <th id=\"T_cf815_level0_row18\" class=\"row_heading level0 row18\" >18</th>\n",
       "      <td id=\"T_cf815_row18_col0\" class=\"data row18 col0\" >0</td>\n",
       "      <td id=\"T_cf815_row18_col1\" class=\"data row18 col1\" >0</td>\n",
       "      <td id=\"T_cf815_row18_col2\" class=\"data row18 col2\" >0</td>\n",
       "      <td id=\"T_cf815_row18_col3\" class=\"data row18 col3\" >0</td>\n",
       "      <td id=\"T_cf815_row18_col4\" class=\"data row18 col4\" >0</td>\n",
       "      <td id=\"T_cf815_row18_col5\" class=\"data row18 col5\" >0</td>\n",
       "      <td id=\"T_cf815_row18_col6\" class=\"data row18 col6\" >0</td>\n",
       "      <td id=\"T_cf815_row18_col7\" class=\"data row18 col7\" >0</td>\n",
       "      <td id=\"T_cf815_row18_col8\" class=\"data row18 col8\" >0</td>\n",
       "      <td id=\"T_cf815_row18_col9\" class=\"data row18 col9\" >0</td>\n",
       "      <td id=\"T_cf815_row18_col10\" class=\"data row18 col10\" >0</td>\n",
       "      <td id=\"T_cf815_row18_col11\" class=\"data row18 col11\" >0</td>\n",
       "      <td id=\"T_cf815_row18_col12\" class=\"data row18 col12\" >0</td>\n",
       "      <td id=\"T_cf815_row18_col13\" class=\"data row18 col13\" >0</td>\n",
       "      <td id=\"T_cf815_row18_col14\" class=\"data row18 col14\" >0</td>\n",
       "      <td id=\"T_cf815_row18_col15\" class=\"data row18 col15\" >138</td>\n",
       "      <td id=\"T_cf815_row18_col16\" class=\"data row18 col16\" >254</td>\n",
       "      <td id=\"T_cf815_row18_col17\" class=\"data row18 col17\" >254</td>\n",
       "      <td id=\"T_cf815_row18_col18\" class=\"data row18 col18\" >116</td>\n",
       "      <td id=\"T_cf815_row18_col19\" class=\"data row18 col19\" >0</td>\n",
       "      <td id=\"T_cf815_row18_col20\" class=\"data row18 col20\" >0</td>\n",
       "      <td id=\"T_cf815_row18_col21\" class=\"data row18 col21\" >0</td>\n",
       "      <td id=\"T_cf815_row18_col22\" class=\"data row18 col22\" >0</td>\n",
       "      <td id=\"T_cf815_row18_col23\" class=\"data row18 col23\" >0</td>\n",
       "      <td id=\"T_cf815_row18_col24\" class=\"data row18 col24\" >0</td>\n",
       "      <td id=\"T_cf815_row18_col25\" class=\"data row18 col25\" >0</td>\n",
       "      <td id=\"T_cf815_row18_col26\" class=\"data row18 col26\" >0</td>\n",
       "      <td id=\"T_cf815_row18_col27\" class=\"data row18 col27\" >0</td>\n",
       "    </tr>\n",
       "    <tr>\n",
       "      <th id=\"T_cf815_level0_row19\" class=\"row_heading level0 row19\" >19</th>\n",
       "      <td id=\"T_cf815_row19_col0\" class=\"data row19 col0\" >0</td>\n",
       "      <td id=\"T_cf815_row19_col1\" class=\"data row19 col1\" >0</td>\n",
       "      <td id=\"T_cf815_row19_col2\" class=\"data row19 col2\" >0</td>\n",
       "      <td id=\"T_cf815_row19_col3\" class=\"data row19 col3\" >0</td>\n",
       "      <td id=\"T_cf815_row19_col4\" class=\"data row19 col4\" >0</td>\n",
       "      <td id=\"T_cf815_row19_col5\" class=\"data row19 col5\" >0</td>\n",
       "      <td id=\"T_cf815_row19_col6\" class=\"data row19 col6\" >19</td>\n",
       "      <td id=\"T_cf815_row19_col7\" class=\"data row19 col7\" >177</td>\n",
       "      <td id=\"T_cf815_row19_col8\" class=\"data row19 col8\" >90</td>\n",
       "      <td id=\"T_cf815_row19_col9\" class=\"data row19 col9\" >0</td>\n",
       "      <td id=\"T_cf815_row19_col10\" class=\"data row19 col10\" >0</td>\n",
       "      <td id=\"T_cf815_row19_col11\" class=\"data row19 col11\" >0</td>\n",
       "      <td id=\"T_cf815_row19_col12\" class=\"data row19 col12\" >0</td>\n",
       "      <td id=\"T_cf815_row19_col13\" class=\"data row19 col13\" >0</td>\n",
       "      <td id=\"T_cf815_row19_col14\" class=\"data row19 col14\" >25</td>\n",
       "      <td id=\"T_cf815_row19_col15\" class=\"data row19 col15\" >240</td>\n",
       "      <td id=\"T_cf815_row19_col16\" class=\"data row19 col16\" >254</td>\n",
       "      <td id=\"T_cf815_row19_col17\" class=\"data row19 col17\" >254</td>\n",
       "      <td id=\"T_cf815_row19_col18\" class=\"data row19 col18\" >34</td>\n",
       "      <td id=\"T_cf815_row19_col19\" class=\"data row19 col19\" >0</td>\n",
       "      <td id=\"T_cf815_row19_col20\" class=\"data row19 col20\" >0</td>\n",
       "      <td id=\"T_cf815_row19_col21\" class=\"data row19 col21\" >0</td>\n",
       "      <td id=\"T_cf815_row19_col22\" class=\"data row19 col22\" >0</td>\n",
       "      <td id=\"T_cf815_row19_col23\" class=\"data row19 col23\" >0</td>\n",
       "      <td id=\"T_cf815_row19_col24\" class=\"data row19 col24\" >0</td>\n",
       "      <td id=\"T_cf815_row19_col25\" class=\"data row19 col25\" >0</td>\n",
       "      <td id=\"T_cf815_row19_col26\" class=\"data row19 col26\" >0</td>\n",
       "      <td id=\"T_cf815_row19_col27\" class=\"data row19 col27\" >0</td>\n",
       "    </tr>\n",
       "    <tr>\n",
       "      <th id=\"T_cf815_level0_row20\" class=\"row_heading level0 row20\" >20</th>\n",
       "      <td id=\"T_cf815_row20_col0\" class=\"data row20 col0\" >0</td>\n",
       "      <td id=\"T_cf815_row20_col1\" class=\"data row20 col1\" >0</td>\n",
       "      <td id=\"T_cf815_row20_col2\" class=\"data row20 col2\" >0</td>\n",
       "      <td id=\"T_cf815_row20_col3\" class=\"data row20 col3\" >0</td>\n",
       "      <td id=\"T_cf815_row20_col4\" class=\"data row20 col4\" >0</td>\n",
       "      <td id=\"T_cf815_row20_col5\" class=\"data row20 col5\" >0</td>\n",
       "      <td id=\"T_cf815_row20_col6\" class=\"data row20 col6\" >164</td>\n",
       "      <td id=\"T_cf815_row20_col7\" class=\"data row20 col7\" >254</td>\n",
       "      <td id=\"T_cf815_row20_col8\" class=\"data row20 col8\" >215</td>\n",
       "      <td id=\"T_cf815_row20_col9\" class=\"data row20 col9\" >63</td>\n",
       "      <td id=\"T_cf815_row20_col10\" class=\"data row20 col10\" >36</td>\n",
       "      <td id=\"T_cf815_row20_col11\" class=\"data row20 col11\" >0</td>\n",
       "      <td id=\"T_cf815_row20_col12\" class=\"data row20 col12\" >51</td>\n",
       "      <td id=\"T_cf815_row20_col13\" class=\"data row20 col13\" >89</td>\n",
       "      <td id=\"T_cf815_row20_col14\" class=\"data row20 col14\" >206</td>\n",
       "      <td id=\"T_cf815_row20_col15\" class=\"data row20 col15\" >254</td>\n",
       "      <td id=\"T_cf815_row20_col16\" class=\"data row20 col16\" >254</td>\n",
       "      <td id=\"T_cf815_row20_col17\" class=\"data row20 col17\" >139</td>\n",
       "      <td id=\"T_cf815_row20_col18\" class=\"data row20 col18\" >8</td>\n",
       "      <td id=\"T_cf815_row20_col19\" class=\"data row20 col19\" >0</td>\n",
       "      <td id=\"T_cf815_row20_col20\" class=\"data row20 col20\" >0</td>\n",
       "      <td id=\"T_cf815_row20_col21\" class=\"data row20 col21\" >0</td>\n",
       "      <td id=\"T_cf815_row20_col22\" class=\"data row20 col22\" >0</td>\n",
       "      <td id=\"T_cf815_row20_col23\" class=\"data row20 col23\" >0</td>\n",
       "      <td id=\"T_cf815_row20_col24\" class=\"data row20 col24\" >0</td>\n",
       "      <td id=\"T_cf815_row20_col25\" class=\"data row20 col25\" >0</td>\n",
       "      <td id=\"T_cf815_row20_col26\" class=\"data row20 col26\" >0</td>\n",
       "      <td id=\"T_cf815_row20_col27\" class=\"data row20 col27\" >0</td>\n",
       "    </tr>\n",
       "    <tr>\n",
       "      <th id=\"T_cf815_level0_row21\" class=\"row_heading level0 row21\" >21</th>\n",
       "      <td id=\"T_cf815_row21_col0\" class=\"data row21 col0\" >0</td>\n",
       "      <td id=\"T_cf815_row21_col1\" class=\"data row21 col1\" >0</td>\n",
       "      <td id=\"T_cf815_row21_col2\" class=\"data row21 col2\" >0</td>\n",
       "      <td id=\"T_cf815_row21_col3\" class=\"data row21 col3\" >0</td>\n",
       "      <td id=\"T_cf815_row21_col4\" class=\"data row21 col4\" >0</td>\n",
       "      <td id=\"T_cf815_row21_col5\" class=\"data row21 col5\" >0</td>\n",
       "      <td id=\"T_cf815_row21_col6\" class=\"data row21 col6\" >57</td>\n",
       "      <td id=\"T_cf815_row21_col7\" class=\"data row21 col7\" >197</td>\n",
       "      <td id=\"T_cf815_row21_col8\" class=\"data row21 col8\" >254</td>\n",
       "      <td id=\"T_cf815_row21_col9\" class=\"data row21 col9\" >254</td>\n",
       "      <td id=\"T_cf815_row21_col10\" class=\"data row21 col10\" >222</td>\n",
       "      <td id=\"T_cf815_row21_col11\" class=\"data row21 col11\" >180</td>\n",
       "      <td id=\"T_cf815_row21_col12\" class=\"data row21 col12\" >241</td>\n",
       "      <td id=\"T_cf815_row21_col13\" class=\"data row21 col13\" >254</td>\n",
       "      <td id=\"T_cf815_row21_col14\" class=\"data row21 col14\" >254</td>\n",
       "      <td id=\"T_cf815_row21_col15\" class=\"data row21 col15\" >253</td>\n",
       "      <td id=\"T_cf815_row21_col16\" class=\"data row21 col16\" >213</td>\n",
       "      <td id=\"T_cf815_row21_col17\" class=\"data row21 col17\" >11</td>\n",
       "      <td id=\"T_cf815_row21_col18\" class=\"data row21 col18\" >0</td>\n",
       "      <td id=\"T_cf815_row21_col19\" class=\"data row21 col19\" >0</td>\n",
       "      <td id=\"T_cf815_row21_col20\" class=\"data row21 col20\" >0</td>\n",
       "      <td id=\"T_cf815_row21_col21\" class=\"data row21 col21\" >0</td>\n",
       "      <td id=\"T_cf815_row21_col22\" class=\"data row21 col22\" >0</td>\n",
       "      <td id=\"T_cf815_row21_col23\" class=\"data row21 col23\" >0</td>\n",
       "      <td id=\"T_cf815_row21_col24\" class=\"data row21 col24\" >0</td>\n",
       "      <td id=\"T_cf815_row21_col25\" class=\"data row21 col25\" >0</td>\n",
       "      <td id=\"T_cf815_row21_col26\" class=\"data row21 col26\" >0</td>\n",
       "      <td id=\"T_cf815_row21_col27\" class=\"data row21 col27\" >0</td>\n",
       "    </tr>\n",
       "    <tr>\n",
       "      <th id=\"T_cf815_level0_row22\" class=\"row_heading level0 row22\" >22</th>\n",
       "      <td id=\"T_cf815_row22_col0\" class=\"data row22 col0\" >0</td>\n",
       "      <td id=\"T_cf815_row22_col1\" class=\"data row22 col1\" >0</td>\n",
       "      <td id=\"T_cf815_row22_col2\" class=\"data row22 col2\" >0</td>\n",
       "      <td id=\"T_cf815_row22_col3\" class=\"data row22 col3\" >0</td>\n",
       "      <td id=\"T_cf815_row22_col4\" class=\"data row22 col4\" >0</td>\n",
       "      <td id=\"T_cf815_row22_col5\" class=\"data row22 col5\" >0</td>\n",
       "      <td id=\"T_cf815_row22_col6\" class=\"data row22 col6\" >0</td>\n",
       "      <td id=\"T_cf815_row22_col7\" class=\"data row22 col7\" >140</td>\n",
       "      <td id=\"T_cf815_row22_col8\" class=\"data row22 col8\" >105</td>\n",
       "      <td id=\"T_cf815_row22_col9\" class=\"data row22 col9\" >254</td>\n",
       "      <td id=\"T_cf815_row22_col10\" class=\"data row22 col10\" >254</td>\n",
       "      <td id=\"T_cf815_row22_col11\" class=\"data row22 col11\" >254</td>\n",
       "      <td id=\"T_cf815_row22_col12\" class=\"data row22 col12\" >254</td>\n",
       "      <td id=\"T_cf815_row22_col13\" class=\"data row22 col13\" >254</td>\n",
       "      <td id=\"T_cf815_row22_col14\" class=\"data row22 col14\" >254</td>\n",
       "      <td id=\"T_cf815_row22_col15\" class=\"data row22 col15\" >236</td>\n",
       "      <td id=\"T_cf815_row22_col16\" class=\"data row22 col16\" >0</td>\n",
       "      <td id=\"T_cf815_row22_col17\" class=\"data row22 col17\" >0</td>\n",
       "      <td id=\"T_cf815_row22_col18\" class=\"data row22 col18\" >0</td>\n",
       "      <td id=\"T_cf815_row22_col19\" class=\"data row22 col19\" >0</td>\n",
       "      <td id=\"T_cf815_row22_col20\" class=\"data row22 col20\" >0</td>\n",
       "      <td id=\"T_cf815_row22_col21\" class=\"data row22 col21\" >0</td>\n",
       "      <td id=\"T_cf815_row22_col22\" class=\"data row22 col22\" >0</td>\n",
       "      <td id=\"T_cf815_row22_col23\" class=\"data row22 col23\" >0</td>\n",
       "      <td id=\"T_cf815_row22_col24\" class=\"data row22 col24\" >0</td>\n",
       "      <td id=\"T_cf815_row22_col25\" class=\"data row22 col25\" >0</td>\n",
       "      <td id=\"T_cf815_row22_col26\" class=\"data row22 col26\" >0</td>\n",
       "      <td id=\"T_cf815_row22_col27\" class=\"data row22 col27\" >0</td>\n",
       "    </tr>\n",
       "    <tr>\n",
       "      <th id=\"T_cf815_level0_row23\" class=\"row_heading level0 row23\" >23</th>\n",
       "      <td id=\"T_cf815_row23_col0\" class=\"data row23 col0\" >0</td>\n",
       "      <td id=\"T_cf815_row23_col1\" class=\"data row23 col1\" >0</td>\n",
       "      <td id=\"T_cf815_row23_col2\" class=\"data row23 col2\" >0</td>\n",
       "      <td id=\"T_cf815_row23_col3\" class=\"data row23 col3\" >0</td>\n",
       "      <td id=\"T_cf815_row23_col4\" class=\"data row23 col4\" >0</td>\n",
       "      <td id=\"T_cf815_row23_col5\" class=\"data row23 col5\" >0</td>\n",
       "      <td id=\"T_cf815_row23_col6\" class=\"data row23 col6\" >0</td>\n",
       "      <td id=\"T_cf815_row23_col7\" class=\"data row23 col7\" >0</td>\n",
       "      <td id=\"T_cf815_row23_col8\" class=\"data row23 col8\" >7</td>\n",
       "      <td id=\"T_cf815_row23_col9\" class=\"data row23 col9\" >117</td>\n",
       "      <td id=\"T_cf815_row23_col10\" class=\"data row23 col10\" >117</td>\n",
       "      <td id=\"T_cf815_row23_col11\" class=\"data row23 col11\" >165</td>\n",
       "      <td id=\"T_cf815_row23_col12\" class=\"data row23 col12\" >254</td>\n",
       "      <td id=\"T_cf815_row23_col13\" class=\"data row23 col13\" >254</td>\n",
       "      <td id=\"T_cf815_row23_col14\" class=\"data row23 col14\" >239</td>\n",
       "      <td id=\"T_cf815_row23_col15\" class=\"data row23 col15\" >50</td>\n",
       "      <td id=\"T_cf815_row23_col16\" class=\"data row23 col16\" >0</td>\n",
       "      <td id=\"T_cf815_row23_col17\" class=\"data row23 col17\" >0</td>\n",
       "      <td id=\"T_cf815_row23_col18\" class=\"data row23 col18\" >0</td>\n",
       "      <td id=\"T_cf815_row23_col19\" class=\"data row23 col19\" >0</td>\n",
       "      <td id=\"T_cf815_row23_col20\" class=\"data row23 col20\" >0</td>\n",
       "      <td id=\"T_cf815_row23_col21\" class=\"data row23 col21\" >0</td>\n",
       "      <td id=\"T_cf815_row23_col22\" class=\"data row23 col22\" >0</td>\n",
       "      <td id=\"T_cf815_row23_col23\" class=\"data row23 col23\" >0</td>\n",
       "      <td id=\"T_cf815_row23_col24\" class=\"data row23 col24\" >0</td>\n",
       "      <td id=\"T_cf815_row23_col25\" class=\"data row23 col25\" >0</td>\n",
       "      <td id=\"T_cf815_row23_col26\" class=\"data row23 col26\" >0</td>\n",
       "      <td id=\"T_cf815_row23_col27\" class=\"data row23 col27\" >0</td>\n",
       "    </tr>\n",
       "    <tr>\n",
       "      <th id=\"T_cf815_level0_row24\" class=\"row_heading level0 row24\" >24</th>\n",
       "      <td id=\"T_cf815_row24_col0\" class=\"data row24 col0\" >0</td>\n",
       "      <td id=\"T_cf815_row24_col1\" class=\"data row24 col1\" >0</td>\n",
       "      <td id=\"T_cf815_row24_col2\" class=\"data row24 col2\" >0</td>\n",
       "      <td id=\"T_cf815_row24_col3\" class=\"data row24 col3\" >0</td>\n",
       "      <td id=\"T_cf815_row24_col4\" class=\"data row24 col4\" >0</td>\n",
       "      <td id=\"T_cf815_row24_col5\" class=\"data row24 col5\" >0</td>\n",
       "      <td id=\"T_cf815_row24_col6\" class=\"data row24 col6\" >0</td>\n",
       "      <td id=\"T_cf815_row24_col7\" class=\"data row24 col7\" >0</td>\n",
       "      <td id=\"T_cf815_row24_col8\" class=\"data row24 col8\" >0</td>\n",
       "      <td id=\"T_cf815_row24_col9\" class=\"data row24 col9\" >0</td>\n",
       "      <td id=\"T_cf815_row24_col10\" class=\"data row24 col10\" >0</td>\n",
       "      <td id=\"T_cf815_row24_col11\" class=\"data row24 col11\" >0</td>\n",
       "      <td id=\"T_cf815_row24_col12\" class=\"data row24 col12\" >0</td>\n",
       "      <td id=\"T_cf815_row24_col13\" class=\"data row24 col13\" >0</td>\n",
       "      <td id=\"T_cf815_row24_col14\" class=\"data row24 col14\" >0</td>\n",
       "      <td id=\"T_cf815_row24_col15\" class=\"data row24 col15\" >0</td>\n",
       "      <td id=\"T_cf815_row24_col16\" class=\"data row24 col16\" >0</td>\n",
       "      <td id=\"T_cf815_row24_col17\" class=\"data row24 col17\" >0</td>\n",
       "      <td id=\"T_cf815_row24_col18\" class=\"data row24 col18\" >0</td>\n",
       "      <td id=\"T_cf815_row24_col19\" class=\"data row24 col19\" >0</td>\n",
       "      <td id=\"T_cf815_row24_col20\" class=\"data row24 col20\" >0</td>\n",
       "      <td id=\"T_cf815_row24_col21\" class=\"data row24 col21\" >0</td>\n",
       "      <td id=\"T_cf815_row24_col22\" class=\"data row24 col22\" >0</td>\n",
       "      <td id=\"T_cf815_row24_col23\" class=\"data row24 col23\" >0</td>\n",
       "      <td id=\"T_cf815_row24_col24\" class=\"data row24 col24\" >0</td>\n",
       "      <td id=\"T_cf815_row24_col25\" class=\"data row24 col25\" >0</td>\n",
       "      <td id=\"T_cf815_row24_col26\" class=\"data row24 col26\" >0</td>\n",
       "      <td id=\"T_cf815_row24_col27\" class=\"data row24 col27\" >0</td>\n",
       "    </tr>\n",
       "    <tr>\n",
       "      <th id=\"T_cf815_level0_row25\" class=\"row_heading level0 row25\" >25</th>\n",
       "      <td id=\"T_cf815_row25_col0\" class=\"data row25 col0\" >0</td>\n",
       "      <td id=\"T_cf815_row25_col1\" class=\"data row25 col1\" >0</td>\n",
       "      <td id=\"T_cf815_row25_col2\" class=\"data row25 col2\" >0</td>\n",
       "      <td id=\"T_cf815_row25_col3\" class=\"data row25 col3\" >0</td>\n",
       "      <td id=\"T_cf815_row25_col4\" class=\"data row25 col4\" >0</td>\n",
       "      <td id=\"T_cf815_row25_col5\" class=\"data row25 col5\" >0</td>\n",
       "      <td id=\"T_cf815_row25_col6\" class=\"data row25 col6\" >0</td>\n",
       "      <td id=\"T_cf815_row25_col7\" class=\"data row25 col7\" >0</td>\n",
       "      <td id=\"T_cf815_row25_col8\" class=\"data row25 col8\" >0</td>\n",
       "      <td id=\"T_cf815_row25_col9\" class=\"data row25 col9\" >0</td>\n",
       "      <td id=\"T_cf815_row25_col10\" class=\"data row25 col10\" >0</td>\n",
       "      <td id=\"T_cf815_row25_col11\" class=\"data row25 col11\" >0</td>\n",
       "      <td id=\"T_cf815_row25_col12\" class=\"data row25 col12\" >0</td>\n",
       "      <td id=\"T_cf815_row25_col13\" class=\"data row25 col13\" >0</td>\n",
       "      <td id=\"T_cf815_row25_col14\" class=\"data row25 col14\" >0</td>\n",
       "      <td id=\"T_cf815_row25_col15\" class=\"data row25 col15\" >0</td>\n",
       "      <td id=\"T_cf815_row25_col16\" class=\"data row25 col16\" >0</td>\n",
       "      <td id=\"T_cf815_row25_col17\" class=\"data row25 col17\" >0</td>\n",
       "      <td id=\"T_cf815_row25_col18\" class=\"data row25 col18\" >0</td>\n",
       "      <td id=\"T_cf815_row25_col19\" class=\"data row25 col19\" >0</td>\n",
       "      <td id=\"T_cf815_row25_col20\" class=\"data row25 col20\" >0</td>\n",
       "      <td id=\"T_cf815_row25_col21\" class=\"data row25 col21\" >0</td>\n",
       "      <td id=\"T_cf815_row25_col22\" class=\"data row25 col22\" >0</td>\n",
       "      <td id=\"T_cf815_row25_col23\" class=\"data row25 col23\" >0</td>\n",
       "      <td id=\"T_cf815_row25_col24\" class=\"data row25 col24\" >0</td>\n",
       "      <td id=\"T_cf815_row25_col25\" class=\"data row25 col25\" >0</td>\n",
       "      <td id=\"T_cf815_row25_col26\" class=\"data row25 col26\" >0</td>\n",
       "      <td id=\"T_cf815_row25_col27\" class=\"data row25 col27\" >0</td>\n",
       "    </tr>\n",
       "    <tr>\n",
       "      <th id=\"T_cf815_level0_row26\" class=\"row_heading level0 row26\" >26</th>\n",
       "      <td id=\"T_cf815_row26_col0\" class=\"data row26 col0\" >0</td>\n",
       "      <td id=\"T_cf815_row26_col1\" class=\"data row26 col1\" >0</td>\n",
       "      <td id=\"T_cf815_row26_col2\" class=\"data row26 col2\" >0</td>\n",
       "      <td id=\"T_cf815_row26_col3\" class=\"data row26 col3\" >0</td>\n",
       "      <td id=\"T_cf815_row26_col4\" class=\"data row26 col4\" >0</td>\n",
       "      <td id=\"T_cf815_row26_col5\" class=\"data row26 col5\" >0</td>\n",
       "      <td id=\"T_cf815_row26_col6\" class=\"data row26 col6\" >0</td>\n",
       "      <td id=\"T_cf815_row26_col7\" class=\"data row26 col7\" >0</td>\n",
       "      <td id=\"T_cf815_row26_col8\" class=\"data row26 col8\" >0</td>\n",
       "      <td id=\"T_cf815_row26_col9\" class=\"data row26 col9\" >0</td>\n",
       "      <td id=\"T_cf815_row26_col10\" class=\"data row26 col10\" >0</td>\n",
       "      <td id=\"T_cf815_row26_col11\" class=\"data row26 col11\" >0</td>\n",
       "      <td id=\"T_cf815_row26_col12\" class=\"data row26 col12\" >0</td>\n",
       "      <td id=\"T_cf815_row26_col13\" class=\"data row26 col13\" >0</td>\n",
       "      <td id=\"T_cf815_row26_col14\" class=\"data row26 col14\" >0</td>\n",
       "      <td id=\"T_cf815_row26_col15\" class=\"data row26 col15\" >0</td>\n",
       "      <td id=\"T_cf815_row26_col16\" class=\"data row26 col16\" >0</td>\n",
       "      <td id=\"T_cf815_row26_col17\" class=\"data row26 col17\" >0</td>\n",
       "      <td id=\"T_cf815_row26_col18\" class=\"data row26 col18\" >0</td>\n",
       "      <td id=\"T_cf815_row26_col19\" class=\"data row26 col19\" >0</td>\n",
       "      <td id=\"T_cf815_row26_col20\" class=\"data row26 col20\" >0</td>\n",
       "      <td id=\"T_cf815_row26_col21\" class=\"data row26 col21\" >0</td>\n",
       "      <td id=\"T_cf815_row26_col22\" class=\"data row26 col22\" >0</td>\n",
       "      <td id=\"T_cf815_row26_col23\" class=\"data row26 col23\" >0</td>\n",
       "      <td id=\"T_cf815_row26_col24\" class=\"data row26 col24\" >0</td>\n",
       "      <td id=\"T_cf815_row26_col25\" class=\"data row26 col25\" >0</td>\n",
       "      <td id=\"T_cf815_row26_col26\" class=\"data row26 col26\" >0</td>\n",
       "      <td id=\"T_cf815_row26_col27\" class=\"data row26 col27\" >0</td>\n",
       "    </tr>\n",
       "    <tr>\n",
       "      <th id=\"T_cf815_level0_row27\" class=\"row_heading level0 row27\" >27</th>\n",
       "      <td id=\"T_cf815_row27_col0\" class=\"data row27 col0\" >0</td>\n",
       "      <td id=\"T_cf815_row27_col1\" class=\"data row27 col1\" >0</td>\n",
       "      <td id=\"T_cf815_row27_col2\" class=\"data row27 col2\" >0</td>\n",
       "      <td id=\"T_cf815_row27_col3\" class=\"data row27 col3\" >0</td>\n",
       "      <td id=\"T_cf815_row27_col4\" class=\"data row27 col4\" >0</td>\n",
       "      <td id=\"T_cf815_row27_col5\" class=\"data row27 col5\" >0</td>\n",
       "      <td id=\"T_cf815_row27_col6\" class=\"data row27 col6\" >0</td>\n",
       "      <td id=\"T_cf815_row27_col7\" class=\"data row27 col7\" >0</td>\n",
       "      <td id=\"T_cf815_row27_col8\" class=\"data row27 col8\" >0</td>\n",
       "      <td id=\"T_cf815_row27_col9\" class=\"data row27 col9\" >0</td>\n",
       "      <td id=\"T_cf815_row27_col10\" class=\"data row27 col10\" >0</td>\n",
       "      <td id=\"T_cf815_row27_col11\" class=\"data row27 col11\" >0</td>\n",
       "      <td id=\"T_cf815_row27_col12\" class=\"data row27 col12\" >0</td>\n",
       "      <td id=\"T_cf815_row27_col13\" class=\"data row27 col13\" >0</td>\n",
       "      <td id=\"T_cf815_row27_col14\" class=\"data row27 col14\" >0</td>\n",
       "      <td id=\"T_cf815_row27_col15\" class=\"data row27 col15\" >0</td>\n",
       "      <td id=\"T_cf815_row27_col16\" class=\"data row27 col16\" >0</td>\n",
       "      <td id=\"T_cf815_row27_col17\" class=\"data row27 col17\" >0</td>\n",
       "      <td id=\"T_cf815_row27_col18\" class=\"data row27 col18\" >0</td>\n",
       "      <td id=\"T_cf815_row27_col19\" class=\"data row27 col19\" >0</td>\n",
       "      <td id=\"T_cf815_row27_col20\" class=\"data row27 col20\" >0</td>\n",
       "      <td id=\"T_cf815_row27_col21\" class=\"data row27 col21\" >0</td>\n",
       "      <td id=\"T_cf815_row27_col22\" class=\"data row27 col22\" >0</td>\n",
       "      <td id=\"T_cf815_row27_col23\" class=\"data row27 col23\" >0</td>\n",
       "      <td id=\"T_cf815_row27_col24\" class=\"data row27 col24\" >0</td>\n",
       "      <td id=\"T_cf815_row27_col25\" class=\"data row27 col25\" >0</td>\n",
       "      <td id=\"T_cf815_row27_col26\" class=\"data row27 col26\" >0</td>\n",
       "      <td id=\"T_cf815_row27_col27\" class=\"data row27 col27\" >0</td>\n",
       "    </tr>\n",
       "  </tbody>\n",
       "</table>\n"
      ],
      "text/plain": [
       "<pandas.io.formats.style.Styler>"
      ]
     },
     "execution_count": null,
     "metadata": {},
     "output_type": "execute_result"
    }
   ],
   "source": [
    "df = pd.DataFrame(tensor(Image.open(threes[0])))\n",
    "df.style.set_properties(**{'font-size':'6pt'}).background_gradient('Greys')"
   ]
  },
  {
   "cell_type": "markdown",
   "metadata": {},
   "source": [
    "<h3>First approach, pixel similarity</h3>"
   ]
  },
  {
   "cell_type": "markdown",
   "metadata": {},
   "source": [
    "The idea is to create a simple baseline model by calculating an average 3 and an average 7 image. This is done by averaging all pixels across all 3s and 7s. First step, loading all the 3s and 7s images in some tensors:"
   ]
  },
  {
   "cell_type": "code",
   "execution_count": null,
   "metadata": {},
   "outputs": [
    {
     "name": "stdout",
     "output_type": "stream",
     "text": [
      "Type of seven_tensors ---> <class 'list'>\n",
      "Type of elements in seven_tensors list ---> <class 'torch.Tensor'>\n",
      "Shape of elements in seven_tensors list ---> torch.Size([28, 28])\n"
     ]
    }
   ],
   "source": [
    "seven_tensors = [tensor(Image.open(o)) for o in sevens]\n",
    "three_tensors = [tensor(Image.open(o)) for o in threes]\n",
    "print(f\"Type of seven_tensors ---> {type(seven_tensors)}\")\n",
    "print(f\"Type of elements in seven_tensors list ---> {type(seven_tensors[0])}\")\n",
    "print(f\"Shape of elements in seven_tensors list ---> {seven_tensors[0].shape}\")"
   ]
  },
  {
   "cell_type": "markdown",
   "metadata": {},
   "source": [
    "Code above uses list comprehension, which is equivalent to:"
   ]
  },
  {
   "cell_type": "code",
   "execution_count": null,
   "metadata": {},
   "outputs": [],
   "source": [
    "three_tensors = []\n",
    "for t_img in threes:\n",
    "    three_tensors.append(tensor(Image.open(t_img)))\n",
    "\n",
    "seven_tensors = []\n",
    "for s_img in sevens:\n",
    "    seven_tensors.append(tensor(Image.open(s_img)))"
   ]
  },
  {
   "cell_type": "code",
   "execution_count": null,
   "metadata": {},
   "outputs": [
    {
     "name": "stdout",
     "output_type": "stream",
     "text": [
      "Type of seven_tensors ---> <class 'list'>\n",
      "Type of elements in seven_tensors list ---> <class 'torch.Tensor'>\n",
      "Shape of elements in seven_tensors list ---> torch.Size([28, 28])\n"
     ]
    }
   ],
   "source": [
    "print(f\"Type of seven_tensors ---> {type(seven_tensors)}\")\n",
    "print(f\"Type of elements in seven_tensors list ---> {type(seven_tensors[0])}\")\n",
    "print(f\"Shape of elements in seven_tensors list ---> {seven_tensors[0].shape}\")"
   ]
  },
  {
   "cell_type": "markdown",
   "metadata": {},
   "source": [
    "Display one of the images tensors:"
   ]
  },
  {
   "cell_type": "code",
   "execution_count": null,
   "metadata": {},
   "outputs": [
    {
     "data": {
      "text/plain": [
       "tensor([[  0,   0,   0,   0,   0,   0,   0,   0,   0,   0,   0,   0,   0,   0,   0,   0,   0,   0,   0,   0,   0,   0,   0,   0,   0,   0,   0,   0],\n",
       "        [  0,   0,   0,   0,   0,   0,   0,   0,   0,   0,   0,   0,   0,   0,   0,   0,   0,   0,   0,   0,   0,   0,   0,   0,   0,   0,   0,   0],\n",
       "        [  0,   0,   0,   0,   0,   0,   0,   0,   0,   0,   0,   0,   0,   0,   0,   0,   0,   0,   0,   0,   0,   0,   0,   0,   0,   0,   0,   0],\n",
       "        [  0,   0,   0,   0,   0,   0,   0,   0,   0,   0,   0,   0,   0,   0,   0,   0,   0,   0,   0,   0,   0,   0,   0,   0,   0,   0,   0,   0],\n",
       "        [  0,   0,   0,   0,   0,   0,   0,   5,  60, 136, 136, 147, 254, 255, 199, 111,  18,   9,   0,   0,   0,   0,   0,   0,   0,   0,   0,   0],\n",
       "        [  0,   0,   0,   0,   0,   0,  25, 152, 253, 253, 253, 253, 253, 253, 253, 253, 253, 124,   0,   0,   0,   0,   0,   0,   0,   0,   0,   0],\n",
       "        [  0,   0,   0,   0,   0,   0, 135, 225, 244, 253, 202, 200, 181, 164, 216, 253, 253, 211, 151,   0,   0,   0,   0,   0,   0,   0,   0,   0],\n",
       "        [  0,   0,   0,   0,   0,   0,   0,  30, 149,  78,   3,   0,   0,   0,  20, 134, 253, 253, 224,   0,   0,   0,   0,   0,   0,   0,   0,   0],\n",
       "        [  0,   0,   0,   0,   0,   0,   0,   0,   0,   0,   0,   0,   0,   0,  28, 206, 253, 253, 224,   0,   0,   0,   0,   0,   0,   0,   0,   0],\n",
       "        [  0,   0,   0,   0,   0,   0,   0,   0,   0,   0,   0,   0,   0,   0,  78, 253, 253, 253, 224,   0,   0,   0,   0,   0,   0,   0,   0,   0],\n",
       "        [  0,   0,   0,   0,   0,   0,   0,   0,   0,   0,   0,   0,   0,   5,  99, 234, 253, 253, 224,   0,   0,   0,   0,   0,   0,   0,   0,   0],\n",
       "        [  0,   0,   0,   0,   0,   0,   0,   0,   0,   0,   0,  14, 142, 220, 219, 236, 253, 253, 240, 121,   7,   0,   0,   0,   0,   0,   0,   0],\n",
       "        [  0,   0,   0,   0,   0,   0,   0,   0,   0,   0,   0,  24, 253, 253, 253, 253, 235, 233, 253, 253, 185,  53,   0,   0,   0,   0,   0,   0],\n",
       "        [  0,   0,   0,   0,   0,   0,   0,   0,   0,   0,   0,   8, 150, 194, 194, 194,  53,  40,  97, 253, 253, 170,   0,   0,   0,   0,   0,   0],\n",
       "        [  0,   0,   0,   0,   0,   0,   0,   0,   0,   0,   0,   0,   0,   0,   0,   0,   0,   0, 122, 253, 253, 170,   0,   0,   0,   0,   0,   0],\n",
       "        [  0,   0,   0,   0,   0,   0,   0,   0,   0,   0,   0,   0,   0,   0,   0,   0,   0,  55, 237, 253, 253, 170,   0,   0,   0,   0,   0,   0],\n",
       "        [  0,   0,   0,   0,   0,   0,   0,   0,   0,   0,   0,   0,   0,   0,   0,   0,   0, 130, 253, 253, 253, 170,   0,   0,   0,   0,   0,   0],\n",
       "        [  0,   0,   0,   0,   0,   0,   0,   0,   0,   0,   0,   0,   0,   0,   4,  12, 120, 193, 253, 253, 214,  28,   0,   0,   0,   0,   0,   0],\n",
       "        [  0,   0,   0,   0,   0,   0,   0,   0,   0,   0,   0,   0,   0,   7, 153, 253, 253, 253, 253, 212,  30,   0,   0,   0,   0,   0,   0,   0],\n",
       "        [  0,   0,   0,   0,   0,   0,  33, 136,  70,   6,   0,  27,  67, 186, 253, 253, 253, 253, 234,  31,   0,   0,   0,   0,   0,   0,   0,   0],\n",
       "        [  0,   0,   0,   0,   0,  26, 231, 253, 253, 191, 183, 223, 253, 253, 253, 253, 172, 216, 112,   0,   0,   0,   0,   0,   0,   0,   0,   0],\n",
       "        [  0,   0,   0,   0,   0,  36, 215, 253, 253, 253, 253, 253, 253, 253, 253, 253,  47,  25,   0,   0,   0,   0,   0,   0,   0,   0,   0,   0],\n",
       "        [  0,   0,   0,   0,   0,   5,  87, 223, 253, 253, 253, 244, 152, 223, 223, 109,   4,   0,   0,   0,   0,   0,   0,   0,   0,   0,   0,   0],\n",
       "        [  0,   0,   0,   0,   0,   0,  67,  50, 176, 148,  78,  16,   0,  12,  12,   0,   0,   0,   0,   0,   0,   0,   0,   0,   0,   0,   0,   0],\n",
       "        [  0,   0,   0,   0,   0,   0,   0,   0,   0,   0,   0,   0,   0,   0,   0,   0,   0,   0,   0,   0,   0,   0,   0,   0,   0,   0,   0,   0],\n",
       "        [  0,   0,   0,   0,   0,   0,   0,   0,   0,   0,   0,   0,   0,   0,   0,   0,   0,   0,   0,   0,   0,   0,   0,   0,   0,   0,   0,   0],\n",
       "        [  0,   0,   0,   0,   0,   0,   0,   0,   0,   0,   0,   0,   0,   0,   0,   0,   0,   0,   0,   0,   0,   0,   0,   0,   0,   0,   0,   0],\n",
       "        [  0,   0,   0,   0,   0,   0,   0,   0,   0,   0,   0,   0,   0,   0,   0,   0,   0,   0,   0,   0,   0,   0,   0,   0,   0,   0,   0,   0]], dtype=torch.uint8)"
      ]
     },
     "execution_count": null,
     "metadata": {},
     "output_type": "execute_result"
    }
   ],
   "source": [
    "three_tensors[4]"
   ]
  },
  {
   "cell_type": "markdown",
   "metadata": {},
   "source": [
    "Use the fastai show_image function to display the tensor as an image (https://fastai1.fast.ai/vision.image.html#show_image):"
   ]
  },
  {
   "cell_type": "code",
   "execution_count": null,
   "metadata": {},
   "outputs": [
    {
     "data": {
      "image/png": "[encoded data removed]",
      "text/plain": [
       "<Figure size 100x100 with 1 Axes>"
      ]
     },
     "metadata": {},
     "output_type": "display_data"
    }
   ],
   "source": [
    "show_image(three_tensors[4]);"
   ]
  },
  {
   "cell_type": "markdown",
   "metadata": {},
   "source": [
    "Our three_tensors and seven_tensors are of list type (they are lists of 2-dimensional/rank-2 28x28 tensors). In order to do effiecient computations accross all of those tensors, we need to stack them into a 3-dimensional/rank-3 tensor. \n",
    "\n",
    "Also, since we will need to take the mean/avg of all those tensor values, we need to cast them (change their data type) to float (because we will be doing division and using ints would result in loss of precision).\n",
    "\n",
    "Finally, we will normalize the pixel values to be between 0 and 1. This good practice that will allow the neural network to train better (by using the same scale across all values, to avoid saturation and vanishing gradients) and faster (because our weights/parameters will converge faster towards ideal values)."
   ]
  },
  {
   "cell_type": "code",
   "execution_count": null,
   "metadata": {},
   "outputs": [
    {
     "name": "stdout",
     "output_type": "stream",
     "text": [
      "stacked_thress/stacked_sevens TYPES ---> <class 'torch.Tensor'> / <class 'torch.Tensor'>\n",
      "stacked_thress/stacked_sevens RANKS ---> 3 / 3\n",
      "stacked_thress/stacked_sevens SHAPES ---> torch.Size([6131, 28, 28]) / torch.Size([6265, 28, 28])\n"
     ]
    }
   ],
   "source": [
    "stacked_sevens = torch.stack(seven_tensors).float()/255\n",
    "stacked_threes = torch.stack(three_tensors).float()/255\n",
    "print(f\"stacked_thress/stacked_sevens TYPES ---> {type(stacked_threes)} / {type(stacked_sevens)}\")\n",
    "print(f\"stacked_thress/stacked_sevens RANKS ---> {len(stacked_threes.shape)} / {len(stacked_sevens.shape)}\")\n",
    "print(f\"stacked_thress/stacked_sevens SHAPES ---> {stacked_threes.shape} / {stacked_sevens.shape}\")"
   ]
  },
  {
   "cell_type": "markdown",
   "metadata": {},
   "source": [
    "So instead of having a list of 6131 2-d 28x28 tensors of threes (three_tensors), we have a 3-d tensor of 6131 tensors of 28x28."
   ]
  },
  {
   "cell_type": "markdown",
   "metadata": {},
   "source": [
    "FYI:\n",
    "- rank --> Number of axes/dimensions of a tensor (len(stacked_threes.shape))\n",
    "- shape --> The size of each axis/dimension of the tensor (stacked_threes.shape)"
   ]
  },
  {
   "cell_type": "markdown",
   "metadata": {},
   "source": [
    "<h4>Calculate average three and seven</h4>"
   ]
  },
  {
   "cell_type": "markdown",
   "metadata": {},
   "source": [
    "The stacked_thress/stacked_sevens tensors are 3-dimensional/rank-3. The last 2 dimensions are 28,28 which indicate the width and height of each image. The first dimensions is thus the \"list\" of all threes or sevens.\n",
    "To calculate the average/mean 3 and 7, we simply need to calculate the average of each pixel across the first dimension. So essentially, we take the value of pixel 1,1 across all threes, add them up and divide by the number of images. So this will give us the value of pixel 1,1 in our average 3. Then we do the same for pixel 1,2 and so on:"
   ]
  },
  {
   "cell_type": "code",
   "execution_count": null,
   "metadata": {},
   "outputs": [
    {
     "data": {
      "image/png": "[encoded data removed]",
      "text/plain": [
       "<Figure size 100x100 with 1 Axes>"
      ]
     },
     "metadata": {},
     "output_type": "display_data"
    },
    {
     "data": {
      "image/png": "[encoded data removed]",
      "text/plain": [
       "<Figure size 100x100 with 1 Axes>"
      ]
     },
     "metadata": {},
     "output_type": "display_data"
    }
   ],
   "source": [
    "mean3 = stacked_threes.mean(0) #0 is the first dimension\n",
    "mean7 = stacked_sevens.mean(0)\n",
    "show_image(mean3);show_image(mean7);"
   ]
  },
  {
   "cell_type": "markdown",
   "metadata": {},
   "source": [
    "Since we added all images accross the first dimension, we end up with a 2-d tensor of size 28,28:"
   ]
  },
  {
   "cell_type": "code",
   "execution_count": null,
   "metadata": {},
   "outputs": [
    {
     "data": {
      "text/plain": [
       "(torch.Size([28, 28]), torch.Size([28, 28]))"
      ]
     },
     "execution_count": null,
     "metadata": {},
     "output_type": "execute_result"
    }
   ],
   "source": [
    "mean3.shape,mean7.shape"
   ]
  },
  {
   "cell_type": "markdown",
   "metadata": {},
   "source": [
    "<h4>Make predictions</h4>"
   ]
  },
  {
   "cell_type": "markdown",
   "metadata": {},
   "source": [
    "So in order to predict if a given image is a 3 or a 7, we compare it (pixel by pixel) to the average 3 and the average 7. If our given image is \"closer\" to the average 3, it means its a 3, and vice versa.\n",
    "\n",
    "We can't directly substract the difference between each pixel because we would end up with positive and negative values which would cancel each other out. For instance, if our text image has pixel 1,1 value of 0 and our average 3 has pixel 1,1 of value 0.5, then we would end up with -0.5 and then if pixel 1,2 has a value of 0.5 in our test image, and value of 0 in the average image, we end up with a value of 0.5. When we add up all the values at the end, those would cancel each other out, and we would lose information.\n",
    "\n",
    "To calculate the difference or distance, between two data sets (a test image and an average image in our case), we need to cancel out the negatives. In other words, we don't want to know the direction of the difference, only the magnitude. The two main ways of doing this are:\n",
    "\n",
    "- <b>L1 Norm</b> aka MAE --> Mean Absolute Error (where we take the absolute value of the difference to eleminate negative differences, so in the example above, both values would be +0.5) --> (test_img - mean_img).abs().mean()\n",
    "- <b>L2 Norm</b> aka RMSE --> Root Mean Squared Error (where we take the difference between two pixels, square it which eliminates negative values, add all of them up and then take the square root of the result) --> ((test_img - mean_img)**2).mean().sqrt()\n",
    "\n",
    "These two approaches are similar but the RMSE will penalize higher differences more because of the squaring of those differences. So for instance, if a given image of a 3 has random black pixels all over (noise), the error will be higher with RMSE than MAE because it heavily penalizes outliers."
   ]
  },
  {
   "cell_type": "code",
   "execution_count": null,
   "metadata": {},
   "outputs": [
    {
     "data": {
      "image/png": "[encoded data removed]",
      "text/plain": [
       "<Figure size 100x100 with 1 Axes>"
      ]
     },
     "metadata": {},
     "output_type": "display_data"
    }
   ],
   "source": [
    "a_3 = stacked_threes[1] #A random image of a 3 from the training set\n",
    "show_image(a_3);"
   ]
  },
  {
   "cell_type": "markdown",
   "metadata": {},
   "source": [
    "<b>Calculate MAE and RMSE between a random 3 and the mean 3</b>"
   ]
  },
  {
   "cell_type": "code",
   "execution_count": null,
   "metadata": {},
   "outputs": [
    {
     "name": "stdout",
     "output_type": "stream",
     "text": [
      "type(dist_3_abs) / type(dist_3_sqr) --> <class 'torch.Tensor'> / <class 'torch.Tensor'>\n",
      "The MAE distance between a random 3 and the mean 3 ---> 0.1114\n",
      "The RMSE distance between a random 3 and the mean 3 ---> 0.2021\n"
     ]
    }
   ],
   "source": [
    "dist_3_abs = (a_3 - mean3).abs().mean() #Calculate MAE distance (outputs a 1-d tensor)\n",
    "dist_3_sqr = ((a_3 - mean3)**2).mean().sqrt() #Calculate RMSE distance (outputs a 1-d tensor)\n",
    "print(f\"type(dist_3_abs) / type(dist_3_sqr) --> {type(dist_3_abs)} / {type(dist_3_sqr)}\")\n",
    "print(f\"The MAE distance between a random 3 and the mean 3 ---> {dist_3_abs:.4f}\")\n",
    "print(f\"The RMSE distance between a random 3 and the mean 3 ---> {dist_3_sqr:.4f}\")"
   ]
  },
  {
   "cell_type": "markdown",
   "metadata": {},
   "source": [
    "<i>As mentioned above, most of the time, RMSE will be higher than MAE distance/error.</i>"
   ]
  },
  {
   "cell_type": "markdown",
   "metadata": {},
   "source": [
    "<b>Calculate MAE and RMSE between a random 3 and the mean 7</b>"
   ]
  },
  {
   "cell_type": "code",
   "execution_count": null,
   "metadata": {},
   "outputs": [
    {
     "name": "stdout",
     "output_type": "stream",
     "text": [
      "type(dist_7_abs) / type(dist_7_sqr) --> <class 'torch.Tensor'> / <class 'torch.Tensor'>\n",
      "The MAE distance between a random 3 and the mean 3 ---> 0.1586\n",
      "The RMSE distance between a random 3 and the mean 3 ---> 0.3021\n"
     ]
    }
   ],
   "source": [
    "dist_7_abs = (a_3 - mean7).abs().mean() #Calculate MAE distance (outputs a 1-d tensor)\n",
    "dist_7_sqr = ((a_3 - mean7)**2).mean().sqrt() #Calculate RMSE distance (outputs a 1-d tensor)\n",
    "print(f\"type(dist_7_abs) / type(dist_7_sqr) --> {type(dist_7_abs)} / {type(dist_7_sqr)}\")\n",
    "print(f\"The MAE distance between a random 3 and the mean 3 ---> {dist_7_abs:.4f}\")\n",
    "print(f\"The RMSE distance between a random 3 and the mean 3 ---> {dist_7_sqr:.4f}\")"
   ]
  },
  {
   "cell_type": "markdown",
   "metadata": {},
   "source": [
    "So if we compare the MAE between the 3 and the mean 3 with the MAE between the 3 and the mean 7, we can see it is smaller, which means that our random 3 image is \"closer\" to the average 3 than the average 7, and it is likely a 3. "
   ]
  },
  {
   "cell_type": "code",
   "execution_count": null,
   "metadata": {},
   "outputs": [
    {
     "data": {
      "text/plain": [
       "tensor(True)"
      ]
     },
     "execution_count": null,
     "metadata": {},
     "output_type": "execute_result"
    }
   ],
   "source": [
    "dist_3_abs < dist_7_abs "
   ]
  },
  {
   "cell_type": "markdown",
   "metadata": {},
   "source": [
    "Same for the RMSE distance:"
   ]
  },
  {
   "cell_type": "code",
   "execution_count": null,
   "metadata": {},
   "outputs": [
    {
     "data": {
      "text/plain": [
       "tensor(True)"
      ]
     },
     "execution_count": null,
     "metadata": {},
     "output_type": "execute_result"
    }
   ],
   "source": [
    "dist_3_sqr < dist_7_sqr"
   ]
  },
  {
   "cell_type": "markdown",
   "metadata": {},
   "source": [
    "PyTorch already provides both of these as *loss functions*. You'll find these inside `torch.nn.functional`, which the PyTorch team recommends importing as `F` (and is available by default under that name in fastai):"
   ]
  },
  {
   "cell_type": "code",
   "execution_count": null,
   "metadata": {},
   "outputs": [
    {
     "data": {
      "text/plain": [
       "(tensor(0.1586), tensor(0.3021))"
      ]
     },
     "execution_count": null,
     "metadata": {},
     "output_type": "execute_result"
    }
   ],
   "source": [
    "F.l1_loss(a_3.float(),mean7), F.mse_loss(a_3,mean7).sqrt()"
   ]
  },
  {
   "cell_type": "code",
   "execution_count": null,
   "metadata": {},
   "outputs": [
    {
     "data": {
      "text/plain": [
       "(tensor(0.1586), tensor(0.3021))"
      ]
     },
     "execution_count": null,
     "metadata": {},
     "output_type": "execute_result"
    }
   ],
   "source": [
    "(a_3 - mean7).abs().mean(),((a_3 - mean7)**2).mean().sqrt()"
   ]
  },
  {
   "cell_type": "markdown",
   "metadata": {},
   "source": [
    "<b>NumPy vs PyTorch</b>\n",
    "- <i>NumPy arrays and PyTorch tensors are similar in functionality, they are both mutlidimensional arrays, but tensors have extra limitations and extra capabilities.</i> \n",
    "\n",
    "- <i>Tensors need to have regular, rectangular shapes, whereas np arrays can be jagged (example a list of matrices where the matrices have different sizes).</i> \n",
    "\n",
    "- <i>Both libraries use compiled C code to run computations much faster than plain vanila python. In addition, tensors can run on GPUs, which allows for even faster computations and more importantly, they can compute gradients very effieciently.</i>\n",
    "\n",
    "- <i>Both libraries use (mostly) the same syntax, and support the same operations (its their backend implementation that differs).</i>"
   ]
  },
  {
   "cell_type": "markdown",
   "metadata": {},
   "source": [
    "<h4>Calculating Metrics</h4>"
   ]
  },
  {
   "cell_type": "markdown",
   "metadata": {},
   "source": [
    "To determine how good/accurate this baseline model is, we need to test it on the validation set. The MNIST dataset has already split the data into training and validation sets (so we don't need to split it ourselves). We simply need to load those validation images into tensors and compare them to our mean 3 and 7 to see how often we predict the correct label/target.\n",
    "\n",
    "Just like we did for the training data set, we will load all the valid/3 and valid/7 images into two lists of 2-d tensors, which we then stack into 3-d tensors before normalizing all pixel values (between 0 and 1):"
   ]
  },
  {
   "cell_type": "code",
   "execution_count": null,
   "metadata": {},
   "outputs": [
    {
     "data": {
      "text/plain": [
       "(torch.Size([1010, 28, 28]), torch.Size([1028, 28, 28]))"
      ]
     },
     "execution_count": null,
     "metadata": {},
     "output_type": "execute_result"
    }
   ],
   "source": [
    "valid_3_tens = torch.stack([tensor(Image.open(o)) \n",
    "                            for o in (path/'valid'/'3').ls()])\n",
    "valid_3_tens = valid_3_tens.float()/255\n",
    "valid_7_tens = torch.stack([tensor(Image.open(o)) \n",
    "                            for o in (path/'valid'/'7').ls()])\n",
    "valid_7_tens = valid_7_tens.float()/255\n",
    "valid_3_tens.shape,valid_7_tens.shape"
   ]
  },
  {
   "cell_type": "markdown",
   "metadata": {},
   "source": [
    "<i>So we have 1010 28x28 images of 3s and 1028 28x28 images of 7s in the validation sets</i>"
   ]
  },
  {
   "cell_type": "markdown",
   "metadata": {},
   "source": [
    "No we need to define a function that calculate the MAE distance between two images (a test image and one of the mean images):"
   ]
  },
  {
   "cell_type": "code",
   "execution_count": null,
   "metadata": {},
   "outputs": [],
   "source": [
    "def mnist_distance(test_img, mean_img): \n",
    "    return (test_img-mean_img).abs().mean((-1,-2)) #equivalent to (a_3 - mean7).abs().mean() from above"
   ]
  },
  {
   "cell_type": "markdown",
   "metadata": {},
   "source": [
    "<i>We specify .mean((-1,-2)) to tell pytorch to take the mean across the last 2 dimensions (width and height of the image). This allows us to pass in either 2-dimensional tensors for test_img and mean_img (aka one test image and one mean image), or a 3-dimensional tensor for test_img, which will be a tensor of image tensors.</i>"
   ]
  },
  {
   "cell_type": "code",
   "execution_count": null,
   "metadata": {},
   "outputs": [
    {
     "data": {
      "text/plain": [
       "tensor(0.1114)"
      ]
     },
     "execution_count": null,
     "metadata": {},
     "output_type": "execute_result"
    }
   ],
   "source": [
    "mnist_distance(a_3, mean3) #Calculating the distance between one image and the mean 3"
   ]
  },
  {
   "cell_type": "code",
   "execution_count": null,
   "metadata": {},
   "outputs": [
    {
     "name": "stdout",
     "output_type": "stream",
     "text": [
      "valid_3_tens.shape --> torch.Size([1010, 28, 28])\n",
      "mean3.shape --> torch.Size([28, 28])\n",
      "\n",
      "(valid_3_tens - mean3).shape --> torch.Size([1010, 28, 28])\n",
      "(valid_3_tens - mean3).abs().shape --> torch.Size([1010, 28, 28])\n",
      "\n",
      "valid_3_dist.shape --> torch.Size([1010])\n"
     ]
    }
   ],
   "source": [
    "valid_3_dist = mnist_distance(valid_3_tens, mean3) #Calculating the distance between ALL our valid 3s and the mean 3\n",
    "\n",
    "print(f\"valid_3_tens.shape --> {valid_3_tens.shape}\")\n",
    "print(f\"mean3.shape --> {mean3.shape}\")\n",
    "print(f\"\\n(valid_3_tens - mean3).shape --> {(valid_3_tens - mean3).shape}\")\n",
    "print(f\"(valid_3_tens - mean3).abs().shape --> {(valid_3_tens - mean3).abs().shape}\")\n",
    "print(f\"\\nvalid_3_dist.shape --> {valid_3_dist.shape}\")"
   ]
  },
  {
   "cell_type": "markdown",
   "metadata": {},
   "source": [
    "<i>This works by using broadcasting. We pass in valid_3_tens, which is a 3-d tensor containing 1010 28x28 images of 3s from the validation set, and a single mean3 image. PyTorch will implicitly broadcast the mean3 accross each row (image) of the 3-d tensor:</i>\n",
    "- (test_img-mean_img) --> outputs 1010,28,28 tensor, where each 28x28 matrix is filled with values that represent the difference between each pixel of each image in our valid_3_tens tensor, and the mean3 tensor\n",
    "- (test_img-mean_img).abs() --> the shape doesn't change (1010,28,28) the abs() is applied to each individual value in all tensors (by making it positive)\n",
    "- (test_img-mean_img).abs().mean((-1,-2)) --> outputs a 1010 tensor where each value is the average/mean difference of that particular image and the mean3 (so for each of the 1010 images, it sums up the differences in the 28x28 matrix and divides them by the total number of pixels in an image,784)"
   ]
  },
  {
   "cell_type": "markdown",
   "metadata": {},
   "source": [
    "Now we define a function that indicates whether a particular image is a 3 or a 7. If the distance between the image and mean3 is smaller than the distance between the image and mean7, then the image is a 3 (True). If not, the image is not a 3 (False) and is thus a 7."
   ]
  },
  {
   "cell_type": "code",
   "execution_count": null,
   "metadata": {},
   "outputs": [],
   "source": [
    "def is_3(x): \n",
    "    return mnist_distance(x,mean3) < mnist_distance(x,mean7)"
   ]
  },
  {
   "cell_type": "code",
   "execution_count": null,
   "metadata": {},
   "outputs": [
    {
     "data": {
      "text/plain": [
       "(tensor(True), tensor(1.))"
      ]
     },
     "execution_count": null,
     "metadata": {},
     "output_type": "execute_result"
    }
   ],
   "source": [
    "is_3(a_3), is_3(a_3).float() #For a single image"
   ]
  },
  {
   "cell_type": "code",
   "execution_count": null,
   "metadata": {},
   "outputs": [
    {
     "data": {
      "text/plain": [
       "(tensor([True, True, True,  ..., True, True, True]), torch.Size([1010]))"
      ]
     },
     "execution_count": null,
     "metadata": {},
     "output_type": "execute_result"
    }
   ],
   "source": [
    "is_3(valid_3_tens),is_3(valid_3_tens).shape #For all the 1010 images of 3s in the validation set"
   ]
  },
  {
   "cell_type": "code",
   "execution_count": null,
   "metadata": {},
   "outputs": [
    {
     "data": {
      "text/plain": [
       "tensor(0.9168)"
      ]
     },
     "execution_count": null,
     "metadata": {},
     "output_type": "execute_result"
    }
   ],
   "source": [
    "accuracy_3s = is_3(valid_3_tens).float().mean()\n",
    "accuracy_3s"
   ]
  },
  {
   "cell_type": "markdown",
   "metadata": {},
   "source": [
    "<i>So is_3(valid_3_tens).float() returns a tensor of size 1010, where each value is True (1.) or False (0.) if the image is closer to the mean3 or the mean7 respectively. By taking the mean, we get the number of images identified as 3s. Since we are using the valid_3_tens tensor, all images are 3s, so if the model were perfect, the 1010 tensor would be all True (1.) and the accuracy would be 1 (100%).</i>"
   ]
  },
  {
   "cell_type": "code",
   "execution_count": null,
   "metadata": {},
   "outputs": [
    {
     "data": {
      "text/plain": [
       "tensor(0.9854)"
      ]
     },
     "execution_count": null,
     "metadata": {},
     "output_type": "execute_result"
    }
   ],
   "source": [
    "accuracy_7s = (1 - is_3(valid_7_tens).float()).mean()\n",
    "accuracy_7s"
   ]
  },
  {
   "cell_type": "markdown",
   "metadata": {},
   "source": [
    "<i>Since is_3() function returns True(1.) if the image is a 3, and False(0.) if the image is a 7, when we pass in valid_7_tens, it returns a tensor where all the 7s are identified as False(0.). We can transform it into a tensor where all the 7s are identified as True by substracting each value from 1. So if an image is identified as a 7, the value would be 0, and 1-0 would equal 1, so it would be True, and if the image is a 3, it would be identified as True(1.) and 1-1 is 0, so False. It baiscally flips all True and False values.</i>"
   ]
  },
  {
   "cell_type": "markdown",
   "metadata": {},
   "source": [
    "So the total accuracy of the model, is the average accuracy of the 3s and the 7s:"
   ]
  },
  {
   "cell_type": "code",
   "execution_count": null,
   "metadata": {},
   "outputs": [
    {
     "data": {
      "text/plain": [
       "tensor(0.9511)"
      ]
     },
     "execution_count": null,
     "metadata": {},
     "output_type": "execute_result"
    }
   ],
   "source": [
    "(accuracy_3s+accuracy_7s)/2"
   ]
  },
  {
   "cell_type": "markdown",
   "metadata": {},
   "source": [
    "<h3>SGD: Stochastic Gradient Descent</h3>"
   ]
  },
  {
   "cell_type": "markdown",
   "metadata": {},
   "source": [
    "An alternative approach to the pixel similarity model, is to use a learnable linear function. So instead of defining and average 3 and an average 7 and comparing each pixel to an input image, we define a linear function, that takes each pixel as input and produces a number output. We assign each pixel a weight/parameter that will be adjusted and learned by the model during training. \n",
    "\n",
    "ouput = w1 * pixel1 + w2 * pixel2 + w3 * pixel3 ... w784 * pixel784\n",
    "\n",
    "*Our images are 28x28 for a total of 784 pixels. We can represent that 28x28 matrix as a vector by taking each row of 28 pixels and appending it at the end of the previous row, so we end up with a 1x784 vector that represents an image.\n",
    "\n",
    "During training, the model will learn and adjust the values of all the w parameters, so that it gives out some value for 3s and some other value for 7s. So the outputs for all 3 images would be close to each other and the outputs for all 7s would be close to each other."
   ]
  },
  {
   "cell_type": "markdown",
   "metadata": {},
   "source": [
    "To be more specific, here are the steps that we are going to require, to turn this function into a machine learning classifier:\n",
    "\n",
    "- Initialize the weights.\n",
    "- For each image, use these weights to predict whether it appears to be a 3 or a 7.\n",
    "- Based on these predictions, calculate how good the model is (its loss).\n",
    "- Calculate the gradient, which measures for each weight, how changing that weight would change the loss\n",
    "- Step (that is, change) all the weights based on that calculation.\n",
    "- Go back to the step 2, and repeat the process.\n",
    "- Iterate until you decide to stop the training process (for instance, because the model is good enough or you don't want to wait any longer)."
   ]
  },
  {
   "cell_type": "code",
   "execution_count": null,
   "metadata": {},
   "outputs": [
    {
     "data": {
      "image/svg+xml": [
       "<?xml version=\"1.0\" encoding=\"UTF-8\" standalone=\"no\"?>\n",
       "<!DOCTYPE svg PUBLIC \"-//W3C//DTD SVG 1.1//EN\"\n",
       " \"http://www.w3.org/Graphics/SVG/1.1/DTD/svg11.dtd\">\n",
       "<!-- Generated by graphviz version 9.0.0 (20231125.0833)\n",
       " -->\n",
       "<!-- Title: G Pages: 1 -->\n",
       "<svg width=\"596pt\" height=\"78pt\"\n",
       " viewBox=\"0.00 0.00 596.25 78.00\" xmlns=\"http://www.w3.org/2000/svg\" xmlns:xlink=\"http://www.w3.org/1999/xlink\">\n",
       "<g id=\"graph0\" class=\"graph\" transform=\"scale(1 1) rotate(0) translate(4 74)\">\n",
       "<title>G</title>\n",
       "<polygon fill=\"white\" stroke=\"none\" points=\"-4,4 -4,-74 592.25,-74 592.25,4 -4,4\"/>\n",
       "<!-- init -->\n",
       "<g id=\"node1\" class=\"node\">\n",
       "<title>init</title>\n",
       "<ellipse fill=\"none\" stroke=\"black\" cx=\"27\" cy=\"-18\" rx=\"27\" ry=\"18\"/>\n",
       "<text text-anchor=\"middle\" x=\"27\" y=\"-12.95\" font-family=\"Times,serif\" font-size=\"14.00\">init</text>\n",
       "</g>\n",
       "<!-- predict -->\n",
       "<g id=\"node2\" class=\"node\">\n",
       "<title>predict</title>\n",
       "<ellipse fill=\"none\" stroke=\"black\" cx=\"127.51\" cy=\"-18\" rx=\"36.51\" ry=\"18\"/>\n",
       "<text text-anchor=\"middle\" x=\"127.51\" y=\"-12.95\" font-family=\"Times,serif\" font-size=\"14.00\">predict</text>\n",
       "</g>\n",
       "<!-- init&#45;&gt;predict -->\n",
       "<g id=\"edge1\" class=\"edge\">\n",
       "<title>init&#45;&gt;predict</title>\n",
       "<path fill=\"none\" stroke=\"black\" d=\"M54.4,-18C62.17,-18 70.91,-18 79.55,-18\"/>\n",
       "<polygon fill=\"black\" stroke=\"black\" points=\"79.26,-21.5 89.26,-18 79.26,-14.5 79.26,-21.5\"/>\n",
       "</g>\n",
       "<!-- loss -->\n",
       "<g id=\"node3\" class=\"node\">\n",
       "<title>loss</title>\n",
       "<ellipse fill=\"none\" stroke=\"black\" cx=\"228.02\" cy=\"-52\" rx=\"27\" ry=\"18\"/>\n",
       "<text text-anchor=\"middle\" x=\"228.02\" y=\"-46.95\" font-family=\"Times,serif\" font-size=\"14.00\">loss</text>\n",
       "</g>\n",
       "<!-- predict&#45;&gt;loss -->\n",
       "<g id=\"edge2\" class=\"edge\">\n",
       "<title>predict&#45;&gt;loss</title>\n",
       "<path fill=\"none\" stroke=\"black\" d=\"M158.06,-28.2C168.95,-31.96 181.36,-36.24 192.63,-40.13\"/>\n",
       "<polygon fill=\"black\" stroke=\"black\" points=\"191.4,-43.41 201.99,-43.36 193.68,-36.79 191.4,-43.41\"/>\n",
       "</g>\n",
       "<!-- gradient -->\n",
       "<g id=\"node4\" class=\"node\">\n",
       "<title>gradient</title>\n",
       "<ellipse fill=\"none\" stroke=\"black\" cx=\"365.13\" cy=\"-52\" rx=\"41.12\" ry=\"18\"/>\n",
       "<text text-anchor=\"middle\" x=\"365.13\" y=\"-46.95\" font-family=\"Times,serif\" font-size=\"14.00\">gradient</text>\n",
       "</g>\n",
       "<!-- loss&#45;&gt;gradient -->\n",
       "<g id=\"edge3\" class=\"edge\">\n",
       "<title>loss&#45;&gt;gradient</title>\n",
       "<path fill=\"none\" stroke=\"black\" d=\"M255.39,-52C271.56,-52 292.81,-52 312.24,-52\"/>\n",
       "<polygon fill=\"black\" stroke=\"black\" points=\"312.21,-55.5 322.21,-52 312.21,-48.5 312.21,-55.5\"/>\n",
       "</g>\n",
       "<!-- step -->\n",
       "<g id=\"node5\" class=\"node\">\n",
       "<title>step</title>\n",
       "<ellipse fill=\"none\" stroke=\"black\" cx=\"470.25\" cy=\"-18\" rx=\"27\" ry=\"18\"/>\n",
       "<text text-anchor=\"middle\" x=\"470.25\" y=\"-12.95\" font-family=\"Times,serif\" font-size=\"14.00\">step</text>\n",
       "</g>\n",
       "<!-- gradient&#45;&gt;step -->\n",
       "<g id=\"edge4\" class=\"edge\">\n",
       "<title>gradient&#45;&gt;step</title>\n",
       "<path fill=\"none\" stroke=\"black\" d=\"M398.76,-41.24C410.3,-37.44 423.3,-33.15 434.97,-29.3\"/>\n",
       "<polygon fill=\"black\" stroke=\"black\" points=\"435.82,-32.71 444.22,-26.25 433.63,-26.06 435.82,-32.71\"/>\n",
       "</g>\n",
       "<!-- step&#45;&gt;predict -->\n",
       "<g id=\"edge6\" class=\"edge\">\n",
       "<title>step&#45;&gt;predict</title>\n",
       "<path fill=\"none\" stroke=\"black\" d=\"M443.04,-18C385.63,-18 248.13,-18 175.42,-18\"/>\n",
       "<polygon fill=\"black\" stroke=\"black\" points=\"175.84,-14.5 165.84,-18 175.84,-21.5 175.84,-14.5\"/>\n",
       "<text text-anchor=\"middle\" x=\"289.52\" y=\"-21.2\" font-family=\"Times,serif\" font-size=\"14.00\">repeat</text>\n",
       "</g>\n",
       "<!-- stop -->\n",
       "<g id=\"node6\" class=\"node\">\n",
       "<title>stop</title>\n",
       "<ellipse fill=\"none\" stroke=\"black\" cx=\"561.25\" cy=\"-18\" rx=\"27\" ry=\"18\"/>\n",
       "<text text-anchor=\"middle\" x=\"561.25\" y=\"-12.95\" font-family=\"Times,serif\" font-size=\"14.00\">stop</text>\n",
       "</g>\n",
       "<!-- step&#45;&gt;stop -->\n",
       "<g id=\"edge5\" class=\"edge\">\n",
       "<title>step&#45;&gt;stop</title>\n",
       "<path fill=\"none\" stroke=\"black\" d=\"M497.47,-18C505.37,-18 514.19,-18 522.67,-18\"/>\n",
       "<polygon fill=\"black\" stroke=\"black\" points=\"522.39,-21.5 532.39,-18 522.39,-14.5 522.39,-21.5\"/>\n",
       "</g>\n",
       "</g>\n",
       "</svg>\n"
      ],
      "text/plain": [
       "<graphviz.sources.Source>"
      ]
     },
     "execution_count": null,
     "metadata": {},
     "output_type": "execute_result"
    }
   ],
   "source": [
    "gv('''\n",
    "init->predict->loss->gradient->step->stop\n",
    "step->predict[label=repeat]\n",
    "''')"
   ]
  },
  {
   "cell_type": "markdown",
   "metadata": {},
   "source": [
    "The idea is to initialize some random weights, make a predicition, calculate the loss between the prediction and the true value (target) of that input, then we adjust the weights slighlty in order to reduce the loss during the next prediction."
   ]
  },
  {
   "cell_type": "markdown",
   "metadata": {},
   "source": [
    "To understand gradient descent, we have to think of the loss as a function of the parameters. In other words, lets say we have a 2-d plot where the x axis is the weight vector (all the weights) and the y axis is the loss. Every time we calculate the loss, we get a point on that plot, that point represents the value of the loss for that particular set of weights. Then we adjust the weights and do another pass and calculate the loss again, so we get a second point in our plot, that represents the new loss based on the adjusted weights. The goal is to find the set of weights, where the value of the loss (the y axis in our plot) is at a minimum. "
   ]
  },
  {
   "cell_type": "code",
   "execution_count": null,
   "metadata": {},
   "outputs": [
    {
     "data": {
      "image/png": "[encoded data removed]",
      "text/plain": [
       "<Figure size 600x400 with 1 Axes>"
      ]
     },
     "metadata": {},
     "output_type": "display_data"
    }
   ],
   "source": [
    "def f(x): return x**2\n",
    "plot_function(f, 'x', 'x**2')\n",
    "plt.scatter(-1.5, f(-1.5), color='red');"
   ]
  },
  {
   "cell_type": "markdown",
   "metadata": {},
   "source": [
    "In the plot above, the x and y axes are scalars (a single number) so it is easy to see that by modifying x to get closer to 0, we get a smaller value on the y axis. \n",
    "\n",
    "Another way of figuring out how to adjust the value of x to minimize y is to use the derivative of our function. The derivative of a function is another function that indicates the direction and magnitude of change at each given point. The derivative is rise/run where rise is the of the ouput (y) and run is the change of the input (x). So it is a function that tells us how much and in what direction the output (y) will change based on a change in the input (x). If calculate the derivative (which is a function) at a specific point, it is the same thing as calculating the tangent in the original function at that given point. So in the plot above, at the red dot (x=-1.5), the tangent is a straight line going down towards the right. Which means that at x=-1.5, in order to minimize the value of y, we need to get increase x (closer to 0).\n",
    "\n",
    "In our case, the x axis is not a scalar, but a vector with 784 values in it. It's not so easy to identify how we should change that vector to minimize loss, which is where gradients come in. Gradients are essentially derivatives in higher dimensions. If we have a weight vector with 4 values, the gradient would be another vector with 4 values, and each of those values in our gradient vector represents how much the corresponding weight contirbuted to the loss. So it tells us how eahc of our weights contirbute to our loss, and how to adjust them.\n",
    "\n",
    "To calculate the gradient of our first weight, we would calculate the derivative of that weight vs the loss, while treating the other 3 weights as constants. Then to calculate the gradient of the second weight, we do the same thing and keep all other weights constant, and so on."
   ]
  },
  {
   "cell_type": "code",
   "execution_count": null,
   "metadata": {},
   "outputs": [],
   "source": []
  }
 ],
 "metadata": {
  "jupytext": {
   "split_at_heading": true
  },
  "kernelspec": {
   "display_name": "gpu_kernel",
   "language": "python",
   "name": "gpu_kernel"
  }
 },
 "nbformat": 4,
 "nbformat_minor": 4
}
